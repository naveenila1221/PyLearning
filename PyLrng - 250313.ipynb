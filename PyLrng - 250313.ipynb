{
  "nbformat": 4,
  "nbformat_minor": 0,
  "metadata": {
    "colab": {
      "provenance": [],
      "authorship_tag": "ABX9TyPu8H+QX8Hoc2QxH9xOJNY0",
      "include_colab_link": true
    },
    "kernelspec": {
      "name": "python3",
      "display_name": "Python 3"
    },
    "language_info": {
      "name": "python"
    }
  },
  "cells": [
    {
      "cell_type": "markdown",
      "metadata": {
        "id": "view-in-github",
        "colab_type": "text"
      },
      "source": [
        "<a href=\"https://colab.research.google.com/github/naveenila1221/PyLearning/blob/main/PyLrng%20-%20250313.ipynb\" target=\"_parent\"><img src=\"https://colab.research.google.com/assets/colab-badge.svg\" alt=\"Open In Colab\"/></a>"
      ]
    },
    {
      "cell_type": "code",
      "execution_count": 1,
      "metadata": {
        "id": "KN-dbQbJLzyI",
        "colab": {
          "base_uri": "https://localhost:8080/"
        },
        "outputId": "3b0d669d-c99a-4a8f-fc66-012ae92f543f"
      },
      "outputs": [
        {
          "output_type": "stream",
          "name": "stdout",
          "text": [
            "['A', 'B', 'C']\n",
            "['B', 'C']\n"
          ]
        }
      ],
      "source": [
        "thisList = [\"A\", \"B\", \"C\"]\n",
        "print(thisList)\n",
        "thisList.remove(\"A\")\n",
        "print(thisList)"
      ]
    },
    {
      "cell_type": "code",
      "source": [
        "thisList = [\"A\", \"B\", \"C\", \"B\"]\n",
        "print(thisList)\n",
        "thisList.remove(\"A\")"
      ],
      "metadata": {
        "colab": {
          "base_uri": "https://localhost:8080/"
        },
        "id": "Z1gTTkCHMsBd",
        "outputId": "da0b9633-8bf1-4e2c-b545-19a2e2eb4191"
      },
      "execution_count": 3,
      "outputs": [
        {
          "output_type": "stream",
          "name": "stdout",
          "text": [
            "['A', 'B', 'C', 'B']\n"
          ]
        }
      ]
    },
    {
      "cell_type": "code",
      "source": [
        "thisList = [\"A\", \"B\", \"C\", \"B\"]\n",
        "print(thisList)\n",
        "thisList.remove(\"A\")\n",
        "print(thisList)\n",
        "thisList.remove(\"B\")\n",
        "print(thisList)"
      ],
      "metadata": {
        "colab": {
          "base_uri": "https://localhost:8080/"
        },
        "id": "sVY58v57M_UQ",
        "outputId": "b5902540-d305-4faf-f976-ab1fab0855d2"
      },
      "execution_count": 4,
      "outputs": [
        {
          "output_type": "stream",
          "name": "stdout",
          "text": [
            "['A', 'B', 'C', 'B']\n",
            "['B', 'C', 'B']\n",
            "['C', 'B']\n"
          ]
        }
      ]
    },
    {
      "cell_type": "code",
      "source": [
        "thisList = [\"A\", \"B\", \"C\", \"B\"]\n",
        "thisList.pop(-1)\n",
        "print(thisList)"
      ],
      "metadata": {
        "colab": {
          "base_uri": "https://localhost:8080/"
        },
        "id": "-ZQPGPRHNGqu",
        "outputId": "6de6512d-1351-470d-c91d-6e677b5b32d5"
      },
      "execution_count": 6,
      "outputs": [
        {
          "output_type": "stream",
          "name": "stdout",
          "text": [
            "['A', 'B', 'C']\n"
          ]
        }
      ]
    },
    {
      "cell_type": "code",
      "source": [
        "thisList = [\"A\", \"B\", \"C\", \"B\"]\n",
        "del thisList[2]\n",
        "print(thisList)"
      ],
      "metadata": {
        "colab": {
          "base_uri": "https://localhost:8080/"
        },
        "id": "M1sZu-e4NSHG",
        "outputId": "798d0293-ac34-4b37-aebf-f16b9cc9994f"
      },
      "execution_count": 9,
      "outputs": [
        {
          "output_type": "stream",
          "name": "stdout",
          "text": [
            "['A', 'B', 'B']\n"
          ]
        }
      ]
    },
    {
      "cell_type": "code",
      "source": [
        "thisList = [\"A\", \"B\", \"C\", \"B\"]\n",
        "del thisList\n",
        "# print(thisList) - this will result an error"
      ],
      "metadata": {
        "id": "M6F_q46iNbxm"
      },
      "execution_count": 11,
      "outputs": []
    },
    {
      "cell_type": "code",
      "source": [
        "thisList = ['A', 'B']\n",
        "print(thisList)\n",
        "thisList.clear()\n",
        "print(thisList)"
      ],
      "metadata": {
        "colab": {
          "base_uri": "https://localhost:8080/"
        },
        "id": "-IpOLI_TNqVO",
        "outputId": "6768fe64-6055-4af7-9999-38a87bcc698c"
      },
      "execution_count": 12,
      "outputs": [
        {
          "output_type": "stream",
          "name": "stdout",
          "text": [
            "['A', 'B']\n",
            "[]\n"
          ]
        }
      ]
    },
    {
      "cell_type": "code",
      "source": [
        "thisList = [1, 2, 3, 4, 5]\n",
        "sum = 0\n",
        "for i in thisList:\n",
        "  sum += i\n",
        "print(sum)"
      ],
      "metadata": {
        "colab": {
          "base_uri": "https://localhost:8080/"
        },
        "id": "iSaWF9HwN81m",
        "outputId": "1c010857-93b9-466d-ceb9-3c15aca3549b"
      },
      "execution_count": 14,
      "outputs": [
        {
          "output_type": "stream",
          "name": "stdout",
          "text": [
            "15\n"
          ]
        }
      ]
    },
    {
      "cell_type": "code",
      "source": [
        "sum = 0\n",
        "for i in range(len(thisList)):\n",
        "  #print(thisList[i])\n",
        "  sum += thisList[i]\n",
        "print(sum)"
      ],
      "metadata": {
        "colab": {
          "base_uri": "https://localhost:8080/"
        },
        "id": "02zIzRJnOed-",
        "outputId": "f0642d66-92f5-4dfa-e2b6-065f28567b33"
      },
      "execution_count": 17,
      "outputs": [
        {
          "output_type": "stream",
          "name": "stdout",
          "text": [
            "15\n"
          ]
        }
      ]
    },
    {
      "cell_type": "code",
      "source": [
        "\n",
        "sum, i = 0, 0\n",
        "while i < len(thisList):\n",
        "  sum += thisList[i]\n",
        "  i += 1\n",
        "print(sum)\n"
      ],
      "metadata": {
        "colab": {
          "base_uri": "https://localhost:8080/"
        },
        "id": "O1LH8gD3Ovtl",
        "outputId": "3782aba9-ffb8-49df-976d-262a873c5394"
      },
      "execution_count": 20,
      "outputs": [
        {
          "output_type": "stream",
          "name": "stdout",
          "text": [
            "15\n"
          ]
        }
      ]
    },
    {
      "cell_type": "code",
      "source": [
        "thislist = [\"apple\", \"banana\", \"cherry\"]\n",
        "[print(x) for x in thislist]"
      ],
      "metadata": {
        "colab": {
          "base_uri": "https://localhost:8080/"
        },
        "id": "pyPL2qFPPPGN",
        "outputId": "621dacd3-6e84-44fe-80ac-7b6fb1ed5212"
      },
      "execution_count": 22,
      "outputs": [
        {
          "output_type": "stream",
          "name": "stdout",
          "text": [
            "apple\n",
            "banana\n",
            "cherry\n"
          ]
        },
        {
          "output_type": "execute_result",
          "data": {
            "text/plain": [
              "[None, None, None]"
            ]
          },
          "metadata": {},
          "execution_count": 22
        }
      ]
    },
    {
      "cell_type": "code",
      "source": [
        "fruits = [\"apple\", \"banana\", \"Mango\", \"kiwi\", \"orange\", \"cherry\", \"grape\", \"dragon\"]\n",
        "newList = []\n",
        "for x in fruits:\n",
        "  if \"a\" in x:\n",
        "    newList.append(x)\n",
        "print(newList)"
      ],
      "metadata": {
        "colab": {
          "base_uri": "https://localhost:8080/"
        },
        "id": "Kfehtk4TP0-m",
        "outputId": "957d8b44-2bf3-4985-fbd0-d99d1cfd304b"
      },
      "execution_count": 51,
      "outputs": [
        {
          "output_type": "stream",
          "name": "stdout",
          "text": [
            "['apple', 'banana', 'Mango', 'orange', 'grape', 'dragon']\n"
          ]
        }
      ]
    },
    {
      "cell_type": "code",
      "source": [
        "newList = [x for x in fruits if \"a\" in x]\n",
        "print(newList)"
      ],
      "metadata": {
        "colab": {
          "base_uri": "https://localhost:8080/"
        },
        "id": "SYD5rHGnRUIm",
        "outputId": "04e2f8db-5b88-4e90-babb-d4d7dd509301"
      },
      "execution_count": 31,
      "outputs": [
        {
          "output_type": "stream",
          "name": "stdout",
          "text": [
            "['apple', 'Mango', 'orange', 'grape', 'dragon']\n"
          ]
        }
      ]
    },
    {
      "cell_type": "code",
      "source": [
        "newList = [x for x in fruits if \"a\" not in x]\n",
        "print(newList)\n"
      ],
      "metadata": {
        "colab": {
          "base_uri": "https://localhost:8080/"
        },
        "id": "fQnpluTYRvz2",
        "outputId": "98d4f1ec-1210-4d36-df7e-fb8336270a85"
      },
      "execution_count": 32,
      "outputs": [
        {
          "output_type": "stream",
          "name": "stdout",
          "text": [
            "['kiwi', 'cherry']\n"
          ]
        }
      ]
    },
    {
      "cell_type": "code",
      "source": [
        "newList = [x for x in fruits if x != \"cherry\"]\n",
        "print(newList)"
      ],
      "metadata": {
        "colab": {
          "base_uri": "https://localhost:8080/"
        },
        "id": "1uor-u6QSD1N",
        "outputId": "61781e55-4cf4-430c-ea09-eb01fb144ed3"
      },
      "execution_count": 43,
      "outputs": [
        {
          "output_type": "stream",
          "name": "stdout",
          "text": [
            "['apple', 'Mango', 'kiwi', 'orange', 'grape', 'dragon']\n"
          ]
        }
      ]
    },
    {
      "cell_type": "code",
      "source": [
        "numList = [(x+1) for x in range(10)]\n",
        "print(numList)"
      ],
      "metadata": {
        "colab": {
          "base_uri": "https://localhost:8080/"
        },
        "id": "o6mqq7iySMgN",
        "outputId": "b80155ab-10a2-42a1-8004-50b536e5acdd"
      },
      "execution_count": 44,
      "outputs": [
        {
          "output_type": "stream",
          "name": "stdout",
          "text": [
            "[1, 2, 3, 4, 5, 6, 7, 8, 9, 10]\n"
          ]
        }
      ]
    },
    {
      "cell_type": "code",
      "source": [
        "numList = [x for x in range(10) if x%2 == 0]\n",
        "numList2 = [x/2 for x in range(10)]\n",
        "oddNum = [x for x in range(10) if x%2 == 1]\n",
        "print(numList)\n",
        "print(numList2)\n",
        "print(oddNum)\n",
        "\n"
      ],
      "metadata": {
        "colab": {
          "base_uri": "https://localhost:8080/"
        },
        "id": "JJItju_iSiAt",
        "outputId": "0a65678a-937d-4967-b161-8e4898f1c02e"
      },
      "execution_count": 45,
      "outputs": [
        {
          "output_type": "stream",
          "name": "stdout",
          "text": [
            "[0, 2, 4, 6, 8]\n",
            "[0.0, 0.5, 1.0, 1.5, 2.0, 2.5, 3.0, 3.5, 4.0, 4.5]\n",
            "[1, 3, 5, 7, 9]\n"
          ]
        }
      ]
    },
    {
      "cell_type": "code",
      "source": [
        "fruits = [x.upper() for x in fruits]\n",
        "print(fruits)"
      ],
      "metadata": {
        "colab": {
          "base_uri": "https://localhost:8080/"
        },
        "id": "-WsPELXfSxxd",
        "outputId": "f3bc0c1f-eb7f-499b-f22c-3804097d0d06"
      },
      "execution_count": 53,
      "outputs": [
        {
          "output_type": "stream",
          "name": "stdout",
          "text": [
            "['APPLE', 'BANANA', 'MANGO', 'KIWI', 'ORANGE', 'CHERRY', 'GRAPE', 'DRAGON']\n"
          ]
        }
      ]
    },
    {
      "cell_type": "code",
      "source": [
        "#Return the item if it is not BANANA, if it is BANANA return berry\n",
        "newList = [x.lower() if x != \"BANANA\" else \"berry\" for x in (fruits)]\n",
        "newList.sort() # sorting the list\n",
        "print(newList)"
      ],
      "metadata": {
        "colab": {
          "base_uri": "https://localhost:8080/"
        },
        "id": "BsHztD1fUPuN",
        "outputId": "5815e05e-5951-4fc1-deff-f597f6d16f24"
      },
      "execution_count": 62,
      "outputs": [
        {
          "output_type": "stream",
          "name": "stdout",
          "text": [
            "['apple', 'berry', 'cherry', 'dragon', 'grape', 'kiwi', 'mango', 'orange']\n"
          ]
        }
      ]
    },
    {
      "cell_type": "code",
      "source": [
        "newList.sort(reverse= True) # sorting the list in reverse order\n",
        "print(newList)"
      ],
      "metadata": {
        "id": "bDyqVpsOWFvy",
        "outputId": "6f42aedc-db7e-4115-9470-ac7f1b54e0f7",
        "colab": {
          "base_uri": "https://localhost:8080/"
        }
      },
      "execution_count": 64,
      "outputs": [
        {
          "output_type": "stream",
          "name": "stdout",
          "text": [
            "['orange', 'mango', 'kiwi', 'grape', 'dragon', 'cherry', 'berry', 'apple']\n"
          ]
        }
      ]
    },
    {
      "cell_type": "code",
      "source": [
        "#custom sorting\n",
        "def customSort(n):\n",
        "  return abs(n-30)\n",
        "numAry = [20,70,50,15,30,60,45,55,25]\n",
        "numAry.sort(key = customSort)\n",
        "print(numAry)\n",
        "numAry.reverse()\n",
        "print(numAry)"
      ],
      "metadata": {
        "id": "iHIPlCd8WSLc",
        "outputId": "71da6666-8cb0-4bdb-acbb-09d74a8b212b",
        "colab": {
          "base_uri": "https://localhost:8080/"
        }
      },
      "execution_count": 70,
      "outputs": [
        {
          "output_type": "stream",
          "name": "stdout",
          "text": [
            "[30, 25, 20, 15, 45, 50, 55, 60, 70]\n",
            "[70, 60, 55, 50, 45, 15, 20, 25, 30]\n"
          ]
        }
      ]
    },
    {
      "cell_type": "code",
      "source": [
        "fruitsCpy = [x.lower() for x in fruits.copy()]\n",
        "print(fruitsCpy)\n",
        "fruitsCpy = list(fruits)\n",
        "print(fruitsCpy)\n",
        "fruitsCpy = fruits[:]\n",
        "print(fruitsCpy)"
      ],
      "metadata": {
        "id": "ATDG-BCMWmLU",
        "outputId": "317bc8b3-a789-4ce1-8fbd-ea44e67d29f6",
        "colab": {
          "base_uri": "https://localhost:8080/"
        }
      },
      "execution_count": 72,
      "outputs": [
        {
          "output_type": "stream",
          "name": "stdout",
          "text": [
            "['apple', 'banana', 'cherry', 'dragon', 'grape', 'kiwi', 'mango', 'orange']\n",
            "['APPLE', 'BANANA', 'CHERRY', 'DRAGON', 'GRAPE', 'KIWI', 'MANGO', 'ORANGE']\n",
            "['APPLE', 'BANANA', 'CHERRY', 'DRAGON', 'GRAPE', 'KIWI', 'MANGO', 'ORANGE']\n"
          ]
        }
      ]
    }
  ]
}