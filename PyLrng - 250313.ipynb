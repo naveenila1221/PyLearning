{
  "nbformat": 4,
  "nbformat_minor": 0,
  "metadata": {
    "colab": {
      "provenance": [],
      "authorship_tag": "ABX9TyMbuobeqcEPlAlHnWbmwUY/",
      "include_colab_link": true
    },
    "kernelspec": {
      "name": "python3",
      "display_name": "Python 3"
    },
    "language_info": {
      "name": "python"
    }
  },
  "cells": [
    {
      "cell_type": "markdown",
      "metadata": {
        "id": "view-in-github",
        "colab_type": "text"
      },
      "source": [
        "<a href=\"https://colab.research.google.com/github/naveenila1221/PyLearning/blob/main/PyLrng%20-%20250313.ipynb\" target=\"_parent\"><img src=\"https://colab.research.google.com/assets/colab-badge.svg\" alt=\"Open In Colab\"/></a>"
      ]
    },
    {
      "cell_type": "code",
      "execution_count": 1,
      "metadata": {
        "id": "KN-dbQbJLzyI",
        "colab": {
          "base_uri": "https://localhost:8080/"
        },
        "outputId": "3b0d669d-c99a-4a8f-fc66-012ae92f543f"
      },
      "outputs": [
        {
          "output_type": "stream",
          "name": "stdout",
          "text": [
            "['A', 'B', 'C']\n",
            "['B', 'C']\n"
          ]
        }
      ],
      "source": [
        "thisList = [\"A\", \"B\", \"C\"]\n",
        "print(thisList)\n",
        "thisList.remove(\"A\")\n",
        "print(thisList)"
      ]
    },
    {
      "cell_type": "code",
      "source": [
        "thisList = [\"A\", \"B\", \"C\", \"B\"]\n",
        "print(thisList)\n",
        "thisList.remove(\"A\")"
      ],
      "metadata": {
        "id": "Z1gTTkCHMsBd",
        "outputId": "da0b9633-8bf1-4e2c-b545-19a2e2eb4191",
        "colab": {
          "base_uri": "https://localhost:8080/"
        }
      },
      "execution_count": 3,
      "outputs": [
        {
          "output_type": "stream",
          "name": "stdout",
          "text": [
            "['A', 'B', 'C', 'B']\n"
          ]
        }
      ]
    },
    {
      "cell_type": "code",
      "source": [
        "thisList = [\"A\", \"B\", \"C\", \"B\"]\n",
        "print(thisList)\n",
        "thisList.remove(\"A\")\n",
        "print(thisList)\n",
        "thisList.remove(\"B\")\n",
        "print(thisList)"
      ],
      "metadata": {
        "id": "sVY58v57M_UQ",
        "outputId": "b5902540-d305-4faf-f976-ab1fab0855d2",
        "colab": {
          "base_uri": "https://localhost:8080/"
        }
      },
      "execution_count": 4,
      "outputs": [
        {
          "output_type": "stream",
          "name": "stdout",
          "text": [
            "['A', 'B', 'C', 'B']\n",
            "['B', 'C', 'B']\n",
            "['C', 'B']\n"
          ]
        }
      ]
    },
    {
      "cell_type": "code",
      "source": [
        "thisList = [\"A\", \"B\", \"C\", \"B\"]\n",
        "thisList.pop(-1)\n",
        "print(thisList)"
      ],
      "metadata": {
        "id": "-ZQPGPRHNGqu",
        "outputId": "6de6512d-1351-470d-c91d-6e677b5b32d5",
        "colab": {
          "base_uri": "https://localhost:8080/"
        }
      },
      "execution_count": 6,
      "outputs": [
        {
          "output_type": "stream",
          "name": "stdout",
          "text": [
            "['A', 'B', 'C']\n"
          ]
        }
      ]
    },
    {
      "cell_type": "code",
      "source": [
        "thisList = [\"A\", \"B\", \"C\", \"B\"]\n",
        "del thisList[2]\n",
        "print(thisList)"
      ],
      "metadata": {
        "id": "M1sZu-e4NSHG",
        "outputId": "798d0293-ac34-4b37-aebf-f16b9cc9994f",
        "colab": {
          "base_uri": "https://localhost:8080/"
        }
      },
      "execution_count": 9,
      "outputs": [
        {
          "output_type": "stream",
          "name": "stdout",
          "text": [
            "['A', 'B', 'B']\n"
          ]
        }
      ]
    },
    {
      "cell_type": "code",
      "source": [
        "thisList = [\"A\", \"B\", \"C\", \"B\"]\n",
        "del thisList\n",
        "# print(thisList) - this will result an error"
      ],
      "metadata": {
        "id": "M6F_q46iNbxm"
      },
      "execution_count": 11,
      "outputs": []
    },
    {
      "cell_type": "code",
      "source": [
        "thisList = ['A', 'B']\n",
        "print(thisList)\n",
        "thisList.clear()\n",
        "print(thisList)"
      ],
      "metadata": {
        "id": "-IpOLI_TNqVO",
        "outputId": "6768fe64-6055-4af7-9999-38a87bcc698c",
        "colab": {
          "base_uri": "https://localhost:8080/"
        }
      },
      "execution_count": 12,
      "outputs": [
        {
          "output_type": "stream",
          "name": "stdout",
          "text": [
            "['A', 'B']\n",
            "[]\n"
          ]
        }
      ]
    },
    {
      "cell_type": "code",
      "source": [
        "thisList = [1, 2, 3, 4, 5]\n",
        "sum = 0\n",
        "for i in thisList:\n",
        "  sum += i\n",
        "print(sum)"
      ],
      "metadata": {
        "id": "iSaWF9HwN81m",
        "outputId": "1c010857-93b9-466d-ceb9-3c15aca3549b",
        "colab": {
          "base_uri": "https://localhost:8080/"
        }
      },
      "execution_count": 14,
      "outputs": [
        {
          "output_type": "stream",
          "name": "stdout",
          "text": [
            "15\n"
          ]
        }
      ]
    },
    {
      "cell_type": "code",
      "source": [
        "sum = 0\n",
        "for i in range(len(thisList)):\n",
        "  #print(thisList[i])\n",
        "  sum += thisList[i]\n",
        "print(sum)"
      ],
      "metadata": {
        "id": "02zIzRJnOed-",
        "outputId": "f0642d66-92f5-4dfa-e2b6-065f28567b33",
        "colab": {
          "base_uri": "https://localhost:8080/"
        }
      },
      "execution_count": 17,
      "outputs": [
        {
          "output_type": "stream",
          "name": "stdout",
          "text": [
            "15\n"
          ]
        }
      ]
    },
    {
      "cell_type": "code",
      "source": [
        "\n",
        "sum, i = 0, 0\n",
        "while i < len(thisList):\n",
        "  sum += thisList[i]\n",
        "  i += 1\n",
        "print(sum)\n"
      ],
      "metadata": {
        "id": "O1LH8gD3Ovtl",
        "outputId": "3782aba9-ffb8-49df-976d-262a873c5394",
        "colab": {
          "base_uri": "https://localhost:8080/"
        }
      },
      "execution_count": 20,
      "outputs": [
        {
          "output_type": "stream",
          "name": "stdout",
          "text": [
            "15\n"
          ]
        }
      ]
    },
    {
      "cell_type": "code",
      "source": [
        "thislist = [\"apple\", \"banana\", \"cherry\"]\n",
        "[print(x) for x in thislist]"
      ],
      "metadata": {
        "id": "pyPL2qFPPPGN",
        "outputId": "621dacd3-6e84-44fe-80ac-7b6fb1ed5212",
        "colab": {
          "base_uri": "https://localhost:8080/"
        }
      },
      "execution_count": 22,
      "outputs": [
        {
          "output_type": "stream",
          "name": "stdout",
          "text": [
            "apple\n",
            "banana\n",
            "cherry\n"
          ]
        },
        {
          "output_type": "execute_result",
          "data": {
            "text/plain": [
              "[None, None, None]"
            ]
          },
          "metadata": {},
          "execution_count": 22
        }
      ]
    },
    {
      "cell_type": "code",
      "source": [
        "fruits = [\"apple\", \"Mango\", \"kiwi\", \"orange\", \"cherry\", \"grape\", \"dragon\"]\n",
        "newList = []\n",
        "for x in fruits:\n",
        "  if \"a\" in x:\n",
        "    newList.append(x)\n",
        "print(newList)"
      ],
      "metadata": {
        "id": "Kfehtk4TP0-m",
        "outputId": "e0a6d847-1960-410b-b3cb-bf85f7fe9c6e",
        "colab": {
          "base_uri": "https://localhost:8080/"
        }
      },
      "execution_count": 30,
      "outputs": [
        {
          "output_type": "stream",
          "name": "stdout",
          "text": [
            "['apple', 'Mango', 'orange', 'grape', 'dragon']\n"
          ]
        }
      ]
    },
    {
      "cell_type": "code",
      "source": [
        "newList = [x for x in fruits if \"a\" in x]\n",
        "print(newList)"
      ],
      "metadata": {
        "id": "SYD5rHGnRUIm",
        "outputId": "04e2f8db-5b88-4e90-babb-d4d7dd509301",
        "colab": {
          "base_uri": "https://localhost:8080/"
        }
      },
      "execution_count": 31,
      "outputs": [
        {
          "output_type": "stream",
          "name": "stdout",
          "text": [
            "['apple', 'Mango', 'orange', 'grape', 'dragon']\n"
          ]
        }
      ]
    },
    {
      "cell_type": "code",
      "source": [
        "newList = [x for x in fruits if \"a\" not in x]\n",
        "print(newList)\n"
      ],
      "metadata": {
        "id": "fQnpluTYRvz2",
        "outputId": "98d4f1ec-1210-4d36-df7e-fb8336270a85",
        "colab": {
          "base_uri": "https://localhost:8080/"
        }
      },
      "execution_count": 32,
      "outputs": [
        {
          "output_type": "stream",
          "name": "stdout",
          "text": [
            "['kiwi', 'cherry']\n"
          ]
        }
      ]
    },
    {
      "cell_type": "code",
      "source": [
        "newList = [x for x in fruits if x != \"cherry\"]\n",
        "print(newList)"
      ],
      "metadata": {
        "id": "1uor-u6QSD1N",
        "outputId": "d26f5e0a-fc0d-4c3d-95e7-a05fe5c8d327",
        "colab": {
          "base_uri": "https://localhost:8080/"
        }
      },
      "execution_count": 33,
      "outputs": [
        {
          "output_type": "stream",
          "name": "stdout",
          "text": [
            "['apple', 'Mango', 'kiwi', 'orange', 'grape', 'dragon']\n"
          ]
        }
      ]
    },
    {
      "cell_type": "code",
      "source": [],
      "metadata": {
        "id": "o6mqq7iySMgN"
      },
      "execution_count": null,
      "outputs": []
    }
  ]
}