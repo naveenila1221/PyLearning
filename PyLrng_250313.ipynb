{
  "nbformat": 4,
  "nbformat_minor": 0,
  "metadata": {
    "colab": {
      "provenance": []
    },
    "kernelspec": {
      "name": "python3",
      "display_name": "Python 3"
    },
    "language_info": {
      "name": "python"
    }
  },
  "cells": [
    {
      "cell_type": "code",
      "execution_count": null,
      "metadata": {
        "id": "KN-dbQbJLzyI",
        "colab": {
          "base_uri": "https://localhost:8080/"
        },
        "outputId": "3b0d669d-c99a-4a8f-fc66-012ae92f543f"
      },
      "outputs": [
        {
          "output_type": "stream",
          "name": "stdout",
          "text": [
            "['A', 'B', 'C']\n",
            "['B', 'C']\n"
          ]
        }
      ],
      "source": [
        "thisList = [\"A\", \"B\", \"C\"]\n",
        "print(thisList)\n",
        "thisList.remove(\"A\")\n",
        "print(thisList)"
      ]
    },
    {
      "cell_type": "code",
      "source": [
        "thisList = [\"A\", \"B\", \"C\", \"B\"]\n",
        "print(thisList)\n",
        "thisList.remove(\"A\")"
      ],
      "metadata": {
        "colab": {
          "base_uri": "https://localhost:8080/"
        },
        "id": "Z1gTTkCHMsBd",
        "outputId": "da0b9633-8bf1-4e2c-b545-19a2e2eb4191"
      },
      "execution_count": null,
      "outputs": [
        {
          "output_type": "stream",
          "name": "stdout",
          "text": [
            "['A', 'B', 'C', 'B']\n"
          ]
        }
      ]
    },
    {
      "cell_type": "code",
      "source": [
        "thisList = [\"A\", \"B\", \"C\", \"B\"]\n",
        "print(thisList)\n",
        "thisList.remove(\"A\")\n",
        "print(thisList)\n",
        "thisList.remove(\"B\")\n",
        "print(thisList)"
      ],
      "metadata": {
        "colab": {
          "base_uri": "https://localhost:8080/"
        },
        "id": "sVY58v57M_UQ",
        "outputId": "b5902540-d305-4faf-f976-ab1fab0855d2"
      },
      "execution_count": null,
      "outputs": [
        {
          "output_type": "stream",
          "name": "stdout",
          "text": [
            "['A', 'B', 'C', 'B']\n",
            "['B', 'C', 'B']\n",
            "['C', 'B']\n"
          ]
        }
      ]
    },
    {
      "cell_type": "code",
      "source": [
        "thisList = [\"A\", \"B\", \"C\", \"B\"]\n",
        "thisList.pop(-1)\n",
        "print(thisList)"
      ],
      "metadata": {
        "colab": {
          "base_uri": "https://localhost:8080/"
        },
        "id": "-ZQPGPRHNGqu",
        "outputId": "6de6512d-1351-470d-c91d-6e677b5b32d5"
      },
      "execution_count": null,
      "outputs": [
        {
          "output_type": "stream",
          "name": "stdout",
          "text": [
            "['A', 'B', 'C']\n"
          ]
        }
      ]
    },
    {
      "cell_type": "code",
      "source": [
        "thisList = [\"A\", \"B\", \"C\", \"B\"]\n",
        "del thisList[2]\n",
        "print(thisList)"
      ],
      "metadata": {
        "colab": {
          "base_uri": "https://localhost:8080/"
        },
        "id": "M1sZu-e4NSHG",
        "outputId": "798d0293-ac34-4b37-aebf-f16b9cc9994f"
      },
      "execution_count": null,
      "outputs": [
        {
          "output_type": "stream",
          "name": "stdout",
          "text": [
            "['A', 'B', 'B']\n"
          ]
        }
      ]
    },
    {
      "cell_type": "code",
      "source": [
        "thisList = [\"A\", \"B\", \"C\", \"B\"]\n",
        "del thisList\n",
        "# print(thisList) - this will result an error"
      ],
      "metadata": {
        "id": "M6F_q46iNbxm"
      },
      "execution_count": null,
      "outputs": []
    },
    {
      "cell_type": "code",
      "source": [
        "thisList = ['A', 'B']\n",
        "print(thisList)\n",
        "thisList.clear()\n",
        "print(thisList)"
      ],
      "metadata": {
        "colab": {
          "base_uri": "https://localhost:8080/"
        },
        "id": "-IpOLI_TNqVO",
        "outputId": "6768fe64-6055-4af7-9999-38a87bcc698c"
      },
      "execution_count": null,
      "outputs": [
        {
          "output_type": "stream",
          "name": "stdout",
          "text": [
            "['A', 'B']\n",
            "[]\n"
          ]
        }
      ]
    },
    {
      "cell_type": "code",
      "source": [
        "thisList = [1, 2, 3, 4, 5]\n",
        "sum = 0\n",
        "for i in thisList:\n",
        "  sum += i\n",
        "print(sum)"
      ],
      "metadata": {
        "colab": {
          "base_uri": "https://localhost:8080/"
        },
        "id": "iSaWF9HwN81m",
        "outputId": "1c010857-93b9-466d-ceb9-3c15aca3549b"
      },
      "execution_count": null,
      "outputs": [
        {
          "output_type": "stream",
          "name": "stdout",
          "text": [
            "15\n"
          ]
        }
      ]
    },
    {
      "cell_type": "code",
      "source": [
        "sum = 0\n",
        "for i in range(len(thisList)):\n",
        "  #print(thisList[i])\n",
        "  sum += thisList[i]\n",
        "print(sum)"
      ],
      "metadata": {
        "colab": {
          "base_uri": "https://localhost:8080/"
        },
        "id": "02zIzRJnOed-",
        "outputId": "f0642d66-92f5-4dfa-e2b6-065f28567b33"
      },
      "execution_count": null,
      "outputs": [
        {
          "output_type": "stream",
          "name": "stdout",
          "text": [
            "15\n"
          ]
        }
      ]
    },
    {
      "cell_type": "code",
      "source": [
        "\n",
        "sum, i = 0, 0\n",
        "while i < len(thisList):\n",
        "  sum += thisList[i]\n",
        "  i += 1\n",
        "print(sum)\n"
      ],
      "metadata": {
        "colab": {
          "base_uri": "https://localhost:8080/"
        },
        "id": "O1LH8gD3Ovtl",
        "outputId": "3782aba9-ffb8-49df-976d-262a873c5394"
      },
      "execution_count": null,
      "outputs": [
        {
          "output_type": "stream",
          "name": "stdout",
          "text": [
            "15\n"
          ]
        }
      ]
    },
    {
      "cell_type": "code",
      "source": [
        "thislist = [\"apple\", \"banana\", \"cherry\"]\n",
        "[print(x) for x in thislist]"
      ],
      "metadata": {
        "colab": {
          "base_uri": "https://localhost:8080/"
        },
        "id": "pyPL2qFPPPGN",
        "outputId": "621dacd3-6e84-44fe-80ac-7b6fb1ed5212"
      },
      "execution_count": null,
      "outputs": [
        {
          "output_type": "stream",
          "name": "stdout",
          "text": [
            "apple\n",
            "banana\n",
            "cherry\n"
          ]
        },
        {
          "output_type": "execute_result",
          "data": {
            "text/plain": [
              "[None, None, None]"
            ]
          },
          "metadata": {},
          "execution_count": 22
        }
      ]
    },
    {
      "cell_type": "code",
      "source": [
        "fruits = [\"apple\", \"banana\", \"Mango\", \"kiwi\", \"orange\", \"cherry\", \"grape\", \"dragon\"]\n",
        "newList = []\n",
        "for x in fruits:\n",
        "  if \"a\" in x:\n",
        "    newList.append(x)\n",
        "print(newList)"
      ],
      "metadata": {
        "colab": {
          "base_uri": "https://localhost:8080/"
        },
        "id": "Kfehtk4TP0-m",
        "outputId": "957d8b44-2bf3-4985-fbd0-d99d1cfd304b"
      },
      "execution_count": null,
      "outputs": [
        {
          "output_type": "stream",
          "name": "stdout",
          "text": [
            "['apple', 'banana', 'Mango', 'orange', 'grape', 'dragon']\n"
          ]
        }
      ]
    },
    {
      "cell_type": "code",
      "source": [
        "newList = [x for x in fruits if \"a\" in x]\n",
        "print(newList)"
      ],
      "metadata": {
        "colab": {
          "base_uri": "https://localhost:8080/"
        },
        "id": "SYD5rHGnRUIm",
        "outputId": "04e2f8db-5b88-4e90-babb-d4d7dd509301"
      },
      "execution_count": null,
      "outputs": [
        {
          "output_type": "stream",
          "name": "stdout",
          "text": [
            "['apple', 'Mango', 'orange', 'grape', 'dragon']\n"
          ]
        }
      ]
    },
    {
      "cell_type": "code",
      "source": [
        "newList = [x for x in fruits if \"a\" not in x]\n",
        "print(newList)\n"
      ],
      "metadata": {
        "colab": {
          "base_uri": "https://localhost:8080/"
        },
        "id": "fQnpluTYRvz2",
        "outputId": "98d4f1ec-1210-4d36-df7e-fb8336270a85"
      },
      "execution_count": null,
      "outputs": [
        {
          "output_type": "stream",
          "name": "stdout",
          "text": [
            "['kiwi', 'cherry']\n"
          ]
        }
      ]
    },
    {
      "cell_type": "code",
      "source": [
        "newList = [x for x in fruits if x != \"cherry\"]\n",
        "print(newList)"
      ],
      "metadata": {
        "colab": {
          "base_uri": "https://localhost:8080/"
        },
        "id": "1uor-u6QSD1N",
        "outputId": "61781e55-4cf4-430c-ea09-eb01fb144ed3"
      },
      "execution_count": null,
      "outputs": [
        {
          "output_type": "stream",
          "name": "stdout",
          "text": [
            "['apple', 'Mango', 'kiwi', 'orange', 'grape', 'dragon']\n"
          ]
        }
      ]
    },
    {
      "cell_type": "code",
      "source": [
        "numList = [(x+1) for x in range(10)]\n",
        "print(numList)"
      ],
      "metadata": {
        "colab": {
          "base_uri": "https://localhost:8080/"
        },
        "id": "o6mqq7iySMgN",
        "outputId": "b80155ab-10a2-42a1-8004-50b536e5acdd"
      },
      "execution_count": null,
      "outputs": [
        {
          "output_type": "stream",
          "name": "stdout",
          "text": [
            "[1, 2, 3, 4, 5, 6, 7, 8, 9, 10]\n"
          ]
        }
      ]
    },
    {
      "cell_type": "code",
      "source": [
        "numList = [x for x in range(10) if x%2 == 0]\n",
        "numList2 = [x/2 for x in range(10)]\n",
        "oddNum = [x for x in range(10) if x%2 == 1]\n",
        "print(numList)\n",
        "print(numList2)\n",
        "print(oddNum)\n",
        "\n"
      ],
      "metadata": {
        "colab": {
          "base_uri": "https://localhost:8080/"
        },
        "id": "JJItju_iSiAt",
        "outputId": "0a65678a-937d-4967-b161-8e4898f1c02e"
      },
      "execution_count": null,
      "outputs": [
        {
          "output_type": "stream",
          "name": "stdout",
          "text": [
            "[0, 2, 4, 6, 8]\n",
            "[0.0, 0.5, 1.0, 1.5, 2.0, 2.5, 3.0, 3.5, 4.0, 4.5]\n",
            "[1, 3, 5, 7, 9]\n"
          ]
        }
      ]
    },
    {
      "cell_type": "code",
      "source": [
        "fruits = [x.upper() for x in fruits]\n",
        "print(fruits)"
      ],
      "metadata": {
        "colab": {
          "base_uri": "https://localhost:8080/"
        },
        "id": "-WsPELXfSxxd",
        "outputId": "f3bc0c1f-eb7f-499b-f22c-3804097d0d06"
      },
      "execution_count": null,
      "outputs": [
        {
          "output_type": "stream",
          "name": "stdout",
          "text": [
            "['APPLE', 'BANANA', 'MANGO', 'KIWI', 'ORANGE', 'CHERRY', 'GRAPE', 'DRAGON']\n"
          ]
        }
      ]
    },
    {
      "cell_type": "code",
      "source": [
        "#Return the item if it is not BANANA, if it is BANANA return berry\n",
        "newList = [x.lower() if x != \"BANANA\" else \"berry\" for x in (fruits)]\n",
        "newList.sort() # sorting the list\n",
        "print(newList)"
      ],
      "metadata": {
        "colab": {
          "base_uri": "https://localhost:8080/"
        },
        "id": "BsHztD1fUPuN",
        "outputId": "5815e05e-5951-4fc1-deff-f597f6d16f24"
      },
      "execution_count": null,
      "outputs": [
        {
          "output_type": "stream",
          "name": "stdout",
          "text": [
            "['apple', 'berry', 'cherry', 'dragon', 'grape', 'kiwi', 'mango', 'orange']\n"
          ]
        }
      ]
    },
    {
      "cell_type": "code",
      "source": [
        "newList.sort(reverse= True) # sorting the list in reverse order\n",
        "print(newList)"
      ],
      "metadata": {
        "colab": {
          "base_uri": "https://localhost:8080/"
        },
        "id": "bDyqVpsOWFvy",
        "outputId": "6f42aedc-db7e-4115-9470-ac7f1b54e0f7"
      },
      "execution_count": null,
      "outputs": [
        {
          "output_type": "stream",
          "name": "stdout",
          "text": [
            "['orange', 'mango', 'kiwi', 'grape', 'dragon', 'cherry', 'berry', 'apple']\n"
          ]
        }
      ]
    },
    {
      "cell_type": "code",
      "source": [
        "#custom sorting\n",
        "def customSort(n):\n",
        "  return abs(n-30)\n",
        "numAry = [20,70,50,15,30,60,45,55,25]\n",
        "numAry.sort(key = customSort)\n",
        "print(numAry)\n",
        "numAry.reverse()\n",
        "print(numAry)"
      ],
      "metadata": {
        "colab": {
          "base_uri": "https://localhost:8080/"
        },
        "id": "iHIPlCd8WSLc",
        "outputId": "71da6666-8cb0-4bdb-acbb-09d74a8b212b"
      },
      "execution_count": null,
      "outputs": [
        {
          "output_type": "stream",
          "name": "stdout",
          "text": [
            "[30, 25, 20, 15, 45, 50, 55, 60, 70]\n",
            "[70, 60, 55, 50, 45, 15, 20, 25, 30]\n"
          ]
        }
      ]
    },
    {
      "cell_type": "code",
      "source": [
        "fruitsCpy = [x.lower() for x in fruits.copy()]\n",
        "print(fruitsCpy)\n",
        "fruitsCpy = list(fruits)\n",
        "print(fruitsCpy)\n",
        "fruitsCpy = fruits[:]\n",
        "print(fruitsCpy)"
      ],
      "metadata": {
        "colab": {
          "base_uri": "https://localhost:8080/"
        },
        "id": "ATDG-BCMWmLU",
        "outputId": "4d5cf01b-2fbf-42f2-c41a-efe75ec8ff20"
      },
      "execution_count": null,
      "outputs": [
        {
          "output_type": "stream",
          "name": "stdout",
          "text": [
            "['apple', 'banana', 'cherry', 'dragon', 'grape', 'kiwi', 'mango', 'orange']\n",
            "['APPLE', 'BANANA', 'CHERRY', 'DRAGON', 'GRAPE', 'KIWI', 'MANGO', 'ORANGE']\n",
            "['APPLE', 'BANANA', 'CHERRY', 'DRAGON', 'GRAPE', 'KIWI', 'MANGO', 'ORANGE']\n"
          ]
        }
      ]
    },
    {
      "cell_type": "code",
      "source": [
        "alphabetList = ['a', 'b', 'c']\n",
        "numberList = [1, 2, 3]\n",
        "mixedList = alphabetList + numberList\n",
        "print(mixedList)\n"
      ],
      "metadata": {
        "id": "sfbOCkBkZSc0",
        "outputId": "52a10c6b-5ef1-4ac2-edd2-ca80f19d93cc",
        "colab": {
          "base_uri": "https://localhost:8080/"
        }
      },
      "execution_count": null,
      "outputs": [
        {
          "output_type": "stream",
          "name": "stdout",
          "text": [
            "['a', 'b', 'c', 1, 2, 3]\n"
          ]
        }
      ]
    },
    {
      "cell_type": "code",
      "source": [
        "abc = [5, 6, 7, 8, 9]\n",
        "\n",
        "for i in numberList:\n",
        "  abc.append(i)\n",
        "print(abc)"
      ],
      "metadata": {
        "id": "fx-AYXS7Z2Er",
        "outputId": "9db82004-55ff-4c3c-cd73-7649f04fe0a3",
        "colab": {
          "base_uri": "https://localhost:8080/"
        }
      },
      "execution_count": null,
      "outputs": [
        {
          "output_type": "stream",
          "name": "stdout",
          "text": [
            "[5, 6, 7, 8, 9, 1, 2, 3]\n"
          ]
        }
      ]
    },
    {
      "cell_type": "code",
      "source": [
        "abc = [5, 6, 7, 8, 9]\n",
        "\n",
        "abc.extend(numberList)\n",
        "print(abc)"
      ],
      "metadata": {
        "id": "qPBGvAKzbvpL",
        "outputId": "2b7dfc5b-c814-4b58-97d3-38b5d177b679",
        "colab": {
          "base_uri": "https://localhost:8080/"
        }
      },
      "execution_count": null,
      "outputs": [
        {
          "output_type": "stream",
          "name": "stdout",
          "text": [
            "[5, 6, 7, 8, 9, 1, 2, 3]\n"
          ]
        }
      ]
    },
    {
      "cell_type": "code",
      "source": [
        "thisTuple = ('A', 'B', 'C', 'A')\n",
        "numTuple = tuple((1,2,3,4,5,6,7,9,10))\n",
        "print(thisTuple)\n",
        "print(thisTuple[1])\n",
        "print('No of items present in this tuple ', len(thisTuple))\n",
        "print(type(thisTuple))\n",
        "print(thisTuple.count('A'))"
      ],
      "metadata": {
        "id": "BAe2NqnteXeT",
        "colab": {
          "base_uri": "https://localhost:8080/"
        },
        "outputId": "f952b2c9-1bfc-47b2-e75d-2ad1b2eb57e1"
      },
      "execution_count": 12,
      "outputs": [
        {
          "output_type": "stream",
          "name": "stdout",
          "text": [
            "('A', 'B', 'C', 'A')\n",
            "B\n",
            "No of items present in this tuple  4\n",
            "<class 'tuple'>\n",
            "2\n"
          ]
        }
      ]
    },
    {
      "cell_type": "code",
      "source": [
        "print(numTuple[1:5])\n",
        "#Printing from the last\n",
        "print(numTuple[-8:-1])"
      ],
      "metadata": {
        "colab": {
          "base_uri": "https://localhost:8080/"
        },
        "id": "m3met_7Mcv9g",
        "outputId": "a006cf24-4e0d-47d4-828f-1b8cd3f09163"
      },
      "execution_count": 14,
      "outputs": [
        {
          "output_type": "stream",
          "name": "stdout",
          "text": [
            "(2, 3, 4, 5)\n",
            "(2, 3, 4, 5, 6, 7, 9)\n"
          ]
        }
      ]
    },
    {
      "cell_type": "code",
      "source": [
        "if 12 in numTuple:\n",
        "  print('We have 12 in the numTuple')\n",
        "else:\n",
        "  print('12 not present in the numTuple')\n"
      ],
      "metadata": {
        "colab": {
          "base_uri": "https://localhost:8080/"
        },
        "id": "l2NdW54zfcye",
        "outputId": "c29552af-3ee0-41da-e40d-df352599ca92"
      },
      "execution_count": 17,
      "outputs": [
        {
          "output_type": "stream",
          "name": "stdout",
          "text": [
            "12 not present in the numTuple\n"
          ]
        }
      ]
    },
    {
      "cell_type": "code",
      "source": [
        "numList = list(numTuple)\n",
        "numList[0] = 0\n",
        "numTuple = tuple(numList)\n",
        "print(numTuple)"
      ],
      "metadata": {
        "colab": {
          "base_uri": "https://localhost:8080/"
        },
        "id": "F7kwdi0LgIYt",
        "outputId": "67a84356-2a5c-4550-8cc9-e91076d409fe"
      },
      "execution_count": 18,
      "outputs": [
        {
          "output_type": "stream",
          "name": "stdout",
          "text": [
            "(0, 2, 3, 4, 5, 6, 7, 9, 10)\n"
          ]
        }
      ]
    },
    {
      "cell_type": "code",
      "source": [
        "newTuple = ('D',)\n",
        "thisTuple += newTuple\n",
        "print(thisTuple)"
      ],
      "metadata": {
        "colab": {
          "base_uri": "https://localhost:8080/"
        },
        "id": "ZJ8Hd8cjhJmk",
        "outputId": "a595657d-3e0e-4f30-d3d1-79de8b07c150"
      },
      "execution_count": 19,
      "outputs": [
        {
          "output_type": "stream",
          "name": "stdout",
          "text": [
            "('A', 'B', 'C', 'A', 'D')\n"
          ]
        }
      ]
    },
    {
      "cell_type": "code",
      "source": [
        "fruitsTuple = ('apple', 'banana', 'orange')\n",
        "(red, yellow, orange) = fruitsTuple\n",
        "print(orange)\n",
        "print(yellow)"
      ],
      "metadata": {
        "colab": {
          "base_uri": "https://localhost:8080/"
        },
        "id": "_8AiiqbNhj5M",
        "outputId": "7cd3ec4c-d21a-4f25-8e43-a64c4a68ee87"
      },
      "execution_count": 20,
      "outputs": [
        {
          "output_type": "stream",
          "name": "stdout",
          "text": [
            "orange\n",
            "banana\n"
          ]
        }
      ]
    },
    {
      "cell_type": "code",
      "source": [
        "fruitsTuple = ('apple', 'banana', 'cherry', 'strawberry', 'kiwi', 'raspberry', 'orange')\n",
        "(green, yellow, *remainingFruits) = fruitsTuple\n",
        "print(green)\n",
        "print(remainingFruits) # Prints all the remaining fruits as list\n"
      ],
      "metadata": {
        "colab": {
          "base_uri": "https://localhost:8080/"
        },
        "id": "b6LBOcfRi3NM",
        "outputId": "247b8e26-63dd-4588-f88d-a9b644cf5458"
      },
      "execution_count": 23,
      "outputs": [
        {
          "output_type": "stream",
          "name": "stdout",
          "text": [
            "apple\n",
            "['cherry', 'strawberry', 'kiwi', 'raspberry', 'orange']\n"
          ]
        }
      ]
    },
    {
      "cell_type": "code",
      "source": [
        "(green, *remainingFruits, red, orange) = fruitsTuple\n",
        "print(green)\n",
        "print(remainingFruits)\n",
        "print(orange)"
      ],
      "metadata": {
        "colab": {
          "base_uri": "https://localhost:8080/"
        },
        "id": "Un1F-yzDjbsF",
        "outputId": "50165aac-b3e2-43ff-8f20-1c53cecc87cd"
      },
      "execution_count": 25,
      "outputs": [
        {
          "output_type": "stream",
          "name": "stdout",
          "text": [
            "apple\n",
            "['banana', 'cherry', 'strawberry', 'kiwi']\n",
            "orange\n"
          ]
        }
      ]
    },
    {
      "cell_type": "code",
      "source": [
        "for x in fruitsTuple:\n",
        "  print(x)"
      ],
      "metadata": {
        "colab": {
          "base_uri": "https://localhost:8080/"
        },
        "id": "4YaBfds-mJi8",
        "outputId": "7dc965e4-1c0e-46f9-9a25-905bb5a865a4"
      },
      "execution_count": 26,
      "outputs": [
        {
          "output_type": "stream",
          "name": "stdout",
          "text": [
            "apple\n",
            "banana\n",
            "cherry\n",
            "strawberry\n",
            "kiwi\n",
            "raspberry\n",
            "orange\n"
          ]
        }
      ]
    },
    {
      "cell_type": "code",
      "source": [
        "for i in range(len(fruitsTuple)):\n",
        "  print(fruitsTuple[i])\n"
      ],
      "metadata": {
        "colab": {
          "base_uri": "https://localhost:8080/"
        },
        "id": "uMmDzHDKmQBc",
        "outputId": "bdd67227-d9e2-4f9d-e110-ceb9578641e5"
      },
      "execution_count": 29,
      "outputs": [
        {
          "output_type": "stream",
          "name": "stdout",
          "text": [
            "apple\n",
            "banana\n",
            "cherry\n",
            "strawberry\n",
            "kiwi\n",
            "raspberry\n",
            "orange\n"
          ]
        }
      ]
    },
    {
      "cell_type": "code",
      "source": [
        "fruitsTupleLen = len(fruitsTuple)\n",
        "i = 0\n",
        "while i < fruitsTupleLen:\n",
        "  print(fruitsTuple[i])\n",
        "  i += 1\n"
      ],
      "metadata": {
        "colab": {
          "base_uri": "https://localhost:8080/"
        },
        "id": "X0Cd9bNznZvs",
        "outputId": "465f2273-150d-4aca-876a-4c1d6ba52fac"
      },
      "execution_count": 32,
      "outputs": [
        {
          "output_type": "stream",
          "name": "stdout",
          "text": [
            "apple\n",
            "banana\n",
            "cherry\n",
            "strawberry\n",
            "kiwi\n",
            "raspberry\n",
            "orange\n"
          ]
        }
      ]
    },
    {
      "cell_type": "code",
      "source": [
        "#multiply tuple\n",
        "multiplyTuple = tuple(range(5))\n",
        "multiplyTuple = multiplyTuple * 2\n",
        "print(multiplyTuple)\n"
      ],
      "metadata": {
        "colab": {
          "base_uri": "https://localhost:8080/"
        },
        "id": "YeYmr8DhpUBz",
        "outputId": "13557732-45ad-439a-f03a-8f4669fb1dc7"
      },
      "execution_count": 35,
      "outputs": [
        {
          "output_type": "stream",
          "name": "stdout",
          "text": [
            "(0, 1, 2, 3, 4, 0, 1, 2, 3, 4)\n"
          ]
        }
      ]
    },
    {
      "cell_type": "code",
      "source": [],
      "metadata": {
        "id": "SnfE0jobqcsb"
      },
      "execution_count": null,
      "outputs": []
    }
  ]
}