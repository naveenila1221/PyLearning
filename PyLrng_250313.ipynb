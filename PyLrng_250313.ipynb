{
  "nbformat": 4,
  "nbformat_minor": 0,
  "metadata": {
    "colab": {
      "provenance": []
    },
    "kernelspec": {
      "name": "python3",
      "display_name": "Python 3"
    },
    "language_info": {
      "name": "python"
    }
  },
  "cells": [
    {
      "cell_type": "code",
      "execution_count": 1,
      "metadata": {
        "id": "KN-dbQbJLzyI",
        "colab": {
          "base_uri": "https://localhost:8080/"
        },
        "outputId": "7ca7d5ce-d1c4-4480-eb57-395b253967da"
      },
      "outputs": [
        {
          "output_type": "stream",
          "name": "stdout",
          "text": [
            "['A', 'B', 'C']\n",
            "['B', 'C']\n"
          ]
        }
      ],
      "source": [
        "thisList = [\"A\", \"B\", \"C\"]\n",
        "print(thisList)\n",
        "thisList.remove(\"A\")\n",
        "print(thisList)"
      ]
    },
    {
      "cell_type": "code",
      "source": [
        "thisList = [\"A\", \"B\", \"C\", \"B\"]\n",
        "print(thisList)\n",
        "thisList.remove(\"A\")"
      ],
      "metadata": {
        "colab": {
          "base_uri": "https://localhost:8080/"
        },
        "id": "Z1gTTkCHMsBd",
        "outputId": "0304aed3-1441-486a-9f5d-c17356adf89e"
      },
      "execution_count": 2,
      "outputs": [
        {
          "output_type": "stream",
          "name": "stdout",
          "text": [
            "['A', 'B', 'C', 'B']\n"
          ]
        }
      ]
    },
    {
      "cell_type": "code",
      "source": [
        "thisList = [\"A\", \"B\", \"C\", \"B\"]\n",
        "print(thisList)\n",
        "thisList.remove(\"A\")\n",
        "print(thisList)\n",
        "thisList.remove(\"B\")\n",
        "print(thisList)"
      ],
      "metadata": {
        "colab": {
          "base_uri": "https://localhost:8080/"
        },
        "id": "sVY58v57M_UQ",
        "outputId": "a58ba448-dc65-47fa-a7e7-7746ffa47b1b"
      },
      "execution_count": 3,
      "outputs": [
        {
          "output_type": "stream",
          "name": "stdout",
          "text": [
            "['A', 'B', 'C', 'B']\n",
            "['B', 'C', 'B']\n",
            "['C', 'B']\n"
          ]
        }
      ]
    },
    {
      "cell_type": "code",
      "source": [
        "thisList = [\"A\", \"B\", \"C\", \"B\"]\n",
        "thisList.pop(-1)\n",
        "print(thisList)"
      ],
      "metadata": {
        "colab": {
          "base_uri": "https://localhost:8080/"
        },
        "id": "-ZQPGPRHNGqu",
        "outputId": "a9160f48-0f88-4583-b5f4-0c5fc576b4ee"
      },
      "execution_count": 4,
      "outputs": [
        {
          "output_type": "stream",
          "name": "stdout",
          "text": [
            "['A', 'B', 'C']\n"
          ]
        }
      ]
    },
    {
      "cell_type": "code",
      "source": [
        "thisList = [\"A\", \"B\", \"C\", \"B\"]\n",
        "del thisList[2]\n",
        "print(thisList)"
      ],
      "metadata": {
        "colab": {
          "base_uri": "https://localhost:8080/"
        },
        "id": "M1sZu-e4NSHG",
        "outputId": "4985256b-d648-4195-c993-b73044bc45bb"
      },
      "execution_count": 5,
      "outputs": [
        {
          "output_type": "stream",
          "name": "stdout",
          "text": [
            "['A', 'B', 'B']\n"
          ]
        }
      ]
    },
    {
      "cell_type": "code",
      "source": [
        "thisList = [\"A\", \"B\", \"C\", \"B\"]\n",
        "del thisList\n",
        "# print(thisList) - this will result an error"
      ],
      "metadata": {
        "id": "M6F_q46iNbxm"
      },
      "execution_count": 6,
      "outputs": []
    },
    {
      "cell_type": "code",
      "source": [
        "thisList = ['A', 'B']\n",
        "print(thisList)\n",
        "thisList.clear()\n",
        "print(thisList)"
      ],
      "metadata": {
        "colab": {
          "base_uri": "https://localhost:8080/"
        },
        "id": "-IpOLI_TNqVO",
        "outputId": "0a679045-77ba-4b87-e25b-77caac3d94ee"
      },
      "execution_count": 7,
      "outputs": [
        {
          "output_type": "stream",
          "name": "stdout",
          "text": [
            "['A', 'B']\n",
            "[]\n"
          ]
        }
      ]
    },
    {
      "cell_type": "code",
      "source": [
        "thisList = [1, 2, 3, 4, 5]\n",
        "sum = 0\n",
        "for i in thisList:\n",
        "  sum += i\n",
        "print(sum)"
      ],
      "metadata": {
        "colab": {
          "base_uri": "https://localhost:8080/"
        },
        "id": "iSaWF9HwN81m",
        "outputId": "123ec87d-4b98-407d-85df-3151b5c9967d"
      },
      "execution_count": 8,
      "outputs": [
        {
          "output_type": "stream",
          "name": "stdout",
          "text": [
            "15\n"
          ]
        }
      ]
    },
    {
      "cell_type": "code",
      "source": [
        "sum = 0\n",
        "for i in range(len(thisList)):\n",
        "  #print(thisList[i])\n",
        "  sum += thisList[i]\n",
        "print(sum)"
      ],
      "metadata": {
        "colab": {
          "base_uri": "https://localhost:8080/"
        },
        "id": "02zIzRJnOed-",
        "outputId": "416e2d11-283d-4c0a-893e-2a4f6d427c44"
      },
      "execution_count": 9,
      "outputs": [
        {
          "output_type": "stream",
          "name": "stdout",
          "text": [
            "15\n"
          ]
        }
      ]
    },
    {
      "cell_type": "code",
      "source": [
        "\n",
        "sum, i = 0, 0\n",
        "while i < len(thisList):\n",
        "  sum += thisList[i]\n",
        "  i += 1\n",
        "print(sum)\n"
      ],
      "metadata": {
        "colab": {
          "base_uri": "https://localhost:8080/"
        },
        "id": "O1LH8gD3Ovtl",
        "outputId": "0dff480f-d50f-45a8-a7f6-3e613be12278"
      },
      "execution_count": 10,
      "outputs": [
        {
          "output_type": "stream",
          "name": "stdout",
          "text": [
            "15\n"
          ]
        }
      ]
    },
    {
      "cell_type": "code",
      "source": [
        "thislist = [\"apple\", \"banana\", \"cherry\"]\n",
        "[print(x) for x in thislist]"
      ],
      "metadata": {
        "colab": {
          "base_uri": "https://localhost:8080/"
        },
        "id": "pyPL2qFPPPGN",
        "outputId": "ff00456f-00d7-49a3-ba66-040e7566de86"
      },
      "execution_count": 11,
      "outputs": [
        {
          "output_type": "stream",
          "name": "stdout",
          "text": [
            "apple\n",
            "banana\n",
            "cherry\n"
          ]
        },
        {
          "output_type": "execute_result",
          "data": {
            "text/plain": [
              "[None, None, None]"
            ]
          },
          "metadata": {},
          "execution_count": 11
        }
      ]
    },
    {
      "cell_type": "code",
      "source": [
        "fruits = [\"apple\", \"banana\", \"Mango\", \"kiwi\", \"orange\", \"cherry\", \"grape\", \"dragon\"]\n",
        "newList = []\n",
        "for x in fruits:\n",
        "  if \"a\" in x:\n",
        "    newList.append(x)\n",
        "print(newList)"
      ],
      "metadata": {
        "colab": {
          "base_uri": "https://localhost:8080/"
        },
        "id": "Kfehtk4TP0-m",
        "outputId": "ecfac9d5-4953-4acf-a304-e5a409d09acb"
      },
      "execution_count": 12,
      "outputs": [
        {
          "output_type": "stream",
          "name": "stdout",
          "text": [
            "['apple', 'banana', 'Mango', 'orange', 'grape', 'dragon']\n"
          ]
        }
      ]
    },
    {
      "cell_type": "code",
      "source": [
        "newList = [x for x in fruits if \"a\" in x]\n",
        "print(newList)"
      ],
      "metadata": {
        "colab": {
          "base_uri": "https://localhost:8080/"
        },
        "id": "SYD5rHGnRUIm",
        "outputId": "118fe60d-131c-41b6-ad1c-99b0721e839d"
      },
      "execution_count": 13,
      "outputs": [
        {
          "output_type": "stream",
          "name": "stdout",
          "text": [
            "['apple', 'banana', 'Mango', 'orange', 'grape', 'dragon']\n"
          ]
        }
      ]
    },
    {
      "cell_type": "code",
      "source": [
        "newList = [x for x in fruits if \"a\" not in x]\n",
        "print(newList)\n"
      ],
      "metadata": {
        "colab": {
          "base_uri": "https://localhost:8080/"
        },
        "id": "fQnpluTYRvz2",
        "outputId": "da42d210-50bd-4e7d-cda3-2f81860a1d1f"
      },
      "execution_count": 14,
      "outputs": [
        {
          "output_type": "stream",
          "name": "stdout",
          "text": [
            "['kiwi', 'cherry']\n"
          ]
        }
      ]
    },
    {
      "cell_type": "code",
      "source": [
        "newList = [x for x in fruits if x != \"cherry\"]\n",
        "print(newList)"
      ],
      "metadata": {
        "colab": {
          "base_uri": "https://localhost:8080/"
        },
        "id": "1uor-u6QSD1N",
        "outputId": "46bf55b7-9ab7-44c2-899e-f2ca997e77bb"
      },
      "execution_count": 15,
      "outputs": [
        {
          "output_type": "stream",
          "name": "stdout",
          "text": [
            "['apple', 'banana', 'Mango', 'kiwi', 'orange', 'grape', 'dragon']\n"
          ]
        }
      ]
    },
    {
      "cell_type": "code",
      "source": [
        "numList = [(x+1) for x in range(10)]\n",
        "print(numList)"
      ],
      "metadata": {
        "colab": {
          "base_uri": "https://localhost:8080/"
        },
        "id": "o6mqq7iySMgN",
        "outputId": "46a1efe0-8a69-4790-d0a0-9d11710213a1"
      },
      "execution_count": 16,
      "outputs": [
        {
          "output_type": "stream",
          "name": "stdout",
          "text": [
            "[1, 2, 3, 4, 5, 6, 7, 8, 9, 10]\n"
          ]
        }
      ]
    },
    {
      "cell_type": "code",
      "source": [
        "numList = [x for x in range(10) if x%2 == 0]\n",
        "numList2 = [x/2 for x in range(10)]\n",
        "oddNum = [x for x in range(10) if x%2 == 1]\n",
        "print(numList)\n",
        "print(numList2)\n",
        "print(oddNum)\n",
        "\n"
      ],
      "metadata": {
        "colab": {
          "base_uri": "https://localhost:8080/"
        },
        "id": "JJItju_iSiAt",
        "outputId": "7ae964eb-ea5c-446b-de0b-fedf920d4b93"
      },
      "execution_count": 17,
      "outputs": [
        {
          "output_type": "stream",
          "name": "stdout",
          "text": [
            "[0, 2, 4, 6, 8]\n",
            "[0.0, 0.5, 1.0, 1.5, 2.0, 2.5, 3.0, 3.5, 4.0, 4.5]\n",
            "[1, 3, 5, 7, 9]\n"
          ]
        }
      ]
    },
    {
      "cell_type": "code",
      "source": [
        "fruits = [x.upper() for x in fruits]\n",
        "print(fruits)"
      ],
      "metadata": {
        "colab": {
          "base_uri": "https://localhost:8080/"
        },
        "id": "-WsPELXfSxxd",
        "outputId": "0a0fe438-5c90-4606-9027-1a7600200703"
      },
      "execution_count": 18,
      "outputs": [
        {
          "output_type": "stream",
          "name": "stdout",
          "text": [
            "['APPLE', 'BANANA', 'MANGO', 'KIWI', 'ORANGE', 'CHERRY', 'GRAPE', 'DRAGON']\n"
          ]
        }
      ]
    },
    {
      "cell_type": "code",
      "source": [
        "#Return the item if it is not BANANA, if it is BANANA return berry\n",
        "newList = [x.lower() if x != \"BANANA\" else \"berry\" for x in (fruits)]\n",
        "newList.sort() # sorting the list\n",
        "print(newList)"
      ],
      "metadata": {
        "colab": {
          "base_uri": "https://localhost:8080/"
        },
        "id": "BsHztD1fUPuN",
        "outputId": "9bf16c6d-5285-4444-9071-11626eba31c9"
      },
      "execution_count": 19,
      "outputs": [
        {
          "output_type": "stream",
          "name": "stdout",
          "text": [
            "['apple', 'berry', 'cherry', 'dragon', 'grape', 'kiwi', 'mango', 'orange']\n"
          ]
        }
      ]
    },
    {
      "cell_type": "code",
      "source": [
        "newList.sort(reverse= True) # sorting the list in reverse order\n",
        "print(newList)"
      ],
      "metadata": {
        "colab": {
          "base_uri": "https://localhost:8080/"
        },
        "id": "bDyqVpsOWFvy",
        "outputId": "3cd57a53-3901-4c6a-feb1-ef0f735bf9fa"
      },
      "execution_count": 20,
      "outputs": [
        {
          "output_type": "stream",
          "name": "stdout",
          "text": [
            "['orange', 'mango', 'kiwi', 'grape', 'dragon', 'cherry', 'berry', 'apple']\n"
          ]
        }
      ]
    },
    {
      "cell_type": "code",
      "source": [
        "#custom sorting\n",
        "def customSort(n):\n",
        "  return abs(n-30)\n",
        "numAry = [20,70,50,15,30,60,45,55,25]\n",
        "numAry.sort(key = customSort)\n",
        "print(numAry)\n",
        "numAry.reverse()\n",
        "print(numAry)"
      ],
      "metadata": {
        "colab": {
          "base_uri": "https://localhost:8080/"
        },
        "id": "iHIPlCd8WSLc",
        "outputId": "afba4a0e-975d-41a2-802b-6f430abe5d96"
      },
      "execution_count": 21,
      "outputs": [
        {
          "output_type": "stream",
          "name": "stdout",
          "text": [
            "[30, 25, 20, 15, 45, 50, 55, 60, 70]\n",
            "[70, 60, 55, 50, 45, 15, 20, 25, 30]\n"
          ]
        }
      ]
    },
    {
      "cell_type": "code",
      "source": [
        "fruitsCpy = [x.lower() for x in fruits.copy()]\n",
        "print(fruitsCpy)\n",
        "fruitsCpy = list(fruits)\n",
        "print(fruitsCpy)\n",
        "fruitsCpy = fruits[:]\n",
        "print(fruitsCpy)"
      ],
      "metadata": {
        "colab": {
          "base_uri": "https://localhost:8080/"
        },
        "id": "ATDG-BCMWmLU",
        "outputId": "70d0c152-809e-4171-c5c3-a6319ecb1399"
      },
      "execution_count": 22,
      "outputs": [
        {
          "output_type": "stream",
          "name": "stdout",
          "text": [
            "['apple', 'banana', 'mango', 'kiwi', 'orange', 'cherry', 'grape', 'dragon']\n",
            "['APPLE', 'BANANA', 'MANGO', 'KIWI', 'ORANGE', 'CHERRY', 'GRAPE', 'DRAGON']\n",
            "['APPLE', 'BANANA', 'MANGO', 'KIWI', 'ORANGE', 'CHERRY', 'GRAPE', 'DRAGON']\n"
          ]
        }
      ]
    },
    {
      "cell_type": "code",
      "source": [
        "alphabetList = ['a', 'b', 'c']\n",
        "numberList = [1, 2, 3]\n",
        "mixedList = alphabetList + numberList\n",
        "print(mixedList)\n"
      ],
      "metadata": {
        "id": "sfbOCkBkZSc0",
        "outputId": "84292d9f-29e8-4a64-d982-2a500fd88552",
        "colab": {
          "base_uri": "https://localhost:8080/"
        }
      },
      "execution_count": 23,
      "outputs": [
        {
          "output_type": "stream",
          "name": "stdout",
          "text": [
            "['a', 'b', 'c', 1, 2, 3]\n"
          ]
        }
      ]
    },
    {
      "cell_type": "code",
      "source": [
        "abc = [5, 6, 7, 8, 9]\n",
        "\n",
        "for i in numberList:\n",
        "  abc.append(i)\n",
        "print(abc)"
      ],
      "metadata": {
        "id": "fx-AYXS7Z2Er",
        "outputId": "937b7ca0-767f-46b2-cad4-aaa0b7fc32ad",
        "colab": {
          "base_uri": "https://localhost:8080/"
        }
      },
      "execution_count": 24,
      "outputs": [
        {
          "output_type": "stream",
          "name": "stdout",
          "text": [
            "[5, 6, 7, 8, 9, 1, 2, 3]\n"
          ]
        }
      ]
    },
    {
      "cell_type": "code",
      "source": [
        "abc = [5, 6, 7, 8, 9]\n",
        "\n",
        "abc.extend(numberList)\n",
        "print(abc)"
      ],
      "metadata": {
        "id": "qPBGvAKzbvpL",
        "outputId": "ddf059ec-26e7-487b-a816-4095e456d903",
        "colab": {
          "base_uri": "https://localhost:8080/"
        }
      },
      "execution_count": 25,
      "outputs": [
        {
          "output_type": "stream",
          "name": "stdout",
          "text": [
            "[5, 6, 7, 8, 9, 1, 2, 3]\n"
          ]
        }
      ]
    },
    {
      "cell_type": "code",
      "source": [
        "thisTuple = ('A', 'B', 'C', 'A')\n",
        "numTuple = tuple((1,2,3,4,5,6,7,9,10))\n",
        "print(thisTuple)\n",
        "print(thisTuple[1])\n",
        "print('No of items present in this tuple ', len(thisTuple))\n",
        "print(type(thisTuple))\n",
        "print(thisTuple.count('A'))"
      ],
      "metadata": {
        "id": "BAe2NqnteXeT",
        "colab": {
          "base_uri": "https://localhost:8080/"
        },
        "outputId": "979186b5-df64-4711-f4d1-778ea5e0bf7f"
      },
      "execution_count": 26,
      "outputs": [
        {
          "output_type": "stream",
          "name": "stdout",
          "text": [
            "('A', 'B', 'C', 'A')\n",
            "B\n",
            "No of items present in this tuple  4\n",
            "<class 'tuple'>\n",
            "2\n"
          ]
        }
      ]
    },
    {
      "cell_type": "code",
      "source": [
        "print(numTuple[1:5])\n",
        "#Printing from the last\n",
        "print(numTuple[-8:-1])"
      ],
      "metadata": {
        "colab": {
          "base_uri": "https://localhost:8080/"
        },
        "id": "m3met_7Mcv9g",
        "outputId": "c991a114-2d5e-4a75-e2d6-7f5126fd47c7"
      },
      "execution_count": 27,
      "outputs": [
        {
          "output_type": "stream",
          "name": "stdout",
          "text": [
            "(2, 3, 4, 5)\n",
            "(2, 3, 4, 5, 6, 7, 9)\n"
          ]
        }
      ]
    },
    {
      "cell_type": "code",
      "source": [
        "if 12 in numTuple:\n",
        "  print('We have 12 in the numTuple')\n",
        "else:\n",
        "  print('12 not present in the numTuple')\n"
      ],
      "metadata": {
        "colab": {
          "base_uri": "https://localhost:8080/"
        },
        "id": "l2NdW54zfcye",
        "outputId": "c96af702-e4ca-4bba-dc5d-807eca8d580e"
      },
      "execution_count": 28,
      "outputs": [
        {
          "output_type": "stream",
          "name": "stdout",
          "text": [
            "12 not present in the numTuple\n"
          ]
        }
      ]
    },
    {
      "cell_type": "code",
      "source": [
        "numList = list(numTuple)\n",
        "numList[0] = 0\n",
        "numTuple = tuple(numList)\n",
        "print(numTuple)"
      ],
      "metadata": {
        "colab": {
          "base_uri": "https://localhost:8080/"
        },
        "id": "F7kwdi0LgIYt",
        "outputId": "c7e253d8-62c2-4c62-a2f4-22dcce5b704e"
      },
      "execution_count": 29,
      "outputs": [
        {
          "output_type": "stream",
          "name": "stdout",
          "text": [
            "(0, 2, 3, 4, 5, 6, 7, 9, 10)\n"
          ]
        }
      ]
    },
    {
      "cell_type": "code",
      "source": [
        "newTuple = ('D',)\n",
        "thisTuple += newTuple\n",
        "print(thisTuple)"
      ],
      "metadata": {
        "colab": {
          "base_uri": "https://localhost:8080/"
        },
        "id": "ZJ8Hd8cjhJmk",
        "outputId": "59dbf0f4-6469-4022-e605-b844c2fc562f"
      },
      "execution_count": 30,
      "outputs": [
        {
          "output_type": "stream",
          "name": "stdout",
          "text": [
            "('A', 'B', 'C', 'A', 'D')\n"
          ]
        }
      ]
    },
    {
      "cell_type": "code",
      "source": [
        "fruitsTuple = ('apple', 'banana', 'orange')\n",
        "(red, yellow, orange) = fruitsTuple\n",
        "print(orange)\n",
        "print(yellow)"
      ],
      "metadata": {
        "colab": {
          "base_uri": "https://localhost:8080/"
        },
        "id": "_8AiiqbNhj5M",
        "outputId": "6eab63ab-0b01-4064-a737-775f9b8c4fdc"
      },
      "execution_count": 31,
      "outputs": [
        {
          "output_type": "stream",
          "name": "stdout",
          "text": [
            "orange\n",
            "banana\n"
          ]
        }
      ]
    },
    {
      "cell_type": "code",
      "source": [
        "fruitsTuple = ('apple', 'banana', 'cherry', 'strawberry', 'kiwi', 'raspberry', 'orange')\n",
        "(green, yellow, *remainingFruits) = fruitsTuple\n",
        "print(green)\n",
        "print(remainingFruits) # Prints all the remaining fruits as list\n"
      ],
      "metadata": {
        "colab": {
          "base_uri": "https://localhost:8080/"
        },
        "id": "b6LBOcfRi3NM",
        "outputId": "9aeb5e1e-009e-4167-824b-7c885d77874f"
      },
      "execution_count": 32,
      "outputs": [
        {
          "output_type": "stream",
          "name": "stdout",
          "text": [
            "apple\n",
            "['cherry', 'strawberry', 'kiwi', 'raspberry', 'orange']\n"
          ]
        }
      ]
    },
    {
      "cell_type": "code",
      "source": [
        "(green, *remainingFruits, red, orange) = fruitsTuple\n",
        "print(green)\n",
        "print(remainingFruits)\n",
        "print(orange)"
      ],
      "metadata": {
        "colab": {
          "base_uri": "https://localhost:8080/"
        },
        "id": "Un1F-yzDjbsF",
        "outputId": "873be416-897f-4012-da01-3b4cd3511a16"
      },
      "execution_count": 33,
      "outputs": [
        {
          "output_type": "stream",
          "name": "stdout",
          "text": [
            "apple\n",
            "['banana', 'cherry', 'strawberry', 'kiwi']\n",
            "orange\n"
          ]
        }
      ]
    },
    {
      "cell_type": "code",
      "source": [
        "for x in fruitsTuple:\n",
        "  print(x)"
      ],
      "metadata": {
        "colab": {
          "base_uri": "https://localhost:8080/"
        },
        "id": "4YaBfds-mJi8",
        "outputId": "df5282ac-5c9e-4d8c-8188-7119984ae18b"
      },
      "execution_count": 34,
      "outputs": [
        {
          "output_type": "stream",
          "name": "stdout",
          "text": [
            "apple\n",
            "banana\n",
            "cherry\n",
            "strawberry\n",
            "kiwi\n",
            "raspberry\n",
            "orange\n"
          ]
        }
      ]
    },
    {
      "cell_type": "code",
      "source": [
        "for i in range(len(fruitsTuple)):\n",
        "  print(fruitsTuple[i])\n"
      ],
      "metadata": {
        "colab": {
          "base_uri": "https://localhost:8080/"
        },
        "id": "uMmDzHDKmQBc",
        "outputId": "342bcc80-3ec2-4b45-bb90-7e983166772f"
      },
      "execution_count": 35,
      "outputs": [
        {
          "output_type": "stream",
          "name": "stdout",
          "text": [
            "apple\n",
            "banana\n",
            "cherry\n",
            "strawberry\n",
            "kiwi\n",
            "raspberry\n",
            "orange\n"
          ]
        }
      ]
    },
    {
      "cell_type": "code",
      "source": [
        "fruitsTupleLen = len(fruitsTuple)\n",
        "i = 0\n",
        "while i < fruitsTupleLen:\n",
        "  print(fruitsTuple[i])\n",
        "  i += 1\n"
      ],
      "metadata": {
        "colab": {
          "base_uri": "https://localhost:8080/"
        },
        "id": "X0Cd9bNznZvs",
        "outputId": "8070e5da-2c1f-4e2e-ae64-a9a346567486"
      },
      "execution_count": 36,
      "outputs": [
        {
          "output_type": "stream",
          "name": "stdout",
          "text": [
            "apple\n",
            "banana\n",
            "cherry\n",
            "strawberry\n",
            "kiwi\n",
            "raspberry\n",
            "orange\n"
          ]
        }
      ]
    },
    {
      "cell_type": "code",
      "source": [
        "#multiply tuple\n",
        "multiplyTuple = tuple(range(5))\n",
        "multiplyTuple = multiplyTuple * 2\n",
        "print(multiplyTuple)\n"
      ],
      "metadata": {
        "colab": {
          "base_uri": "https://localhost:8080/"
        },
        "id": "YeYmr8DhpUBz",
        "outputId": "8d46c2ce-8dc1-488e-ea55-be86552a967d"
      },
      "execution_count": 37,
      "outputs": [
        {
          "output_type": "stream",
          "name": "stdout",
          "text": [
            "(0, 1, 2, 3, 4, 0, 1, 2, 3, 4)\n"
          ]
        }
      ]
    },
    {
      "cell_type": "code",
      "source": [],
      "metadata": {
        "id": "SnfE0jobqcsb"
      },
      "execution_count": 37,
      "outputs": []
    }
  ]
}