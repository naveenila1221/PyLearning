{
  "nbformat": 4,
  "nbformat_minor": 0,
  "metadata": {
    "colab": {
      "provenance": [],
      "authorship_tag": "ABX9TyPPOvWUb+38MukS57ApY6oB"
    },
    "kernelspec": {
      "name": "python3",
      "display_name": "Python 3"
    },
    "language_info": {
      "name": "python"
    }
  },
  "cells": [
    {
      "cell_type": "code",
      "execution_count": 25,
      "metadata": {
        "id": "far2WLrJp-YW",
        "colab": {
          "base_uri": "https://localhost:8080/"
        },
        "outputId": "cfbf7e85-a3aa-44e0-f8ca-8d89526ae023"
      },
      "outputs": [
        {
          "output_type": "stream",
          "name": "stdout",
          "text": [
            "{0, 1, 2, 3, 'apple'}\n",
            "5\n"
          ]
        }
      ],
      "source": [
        "setItems = {0, 1,2,3, 1, \"apple\", True, False, 0}\n",
        "print(setItems)\n",
        "print(len(setItems))"
      ]
    },
    {
      "cell_type": "code",
      "source": [
        "#with comments\n",
        "setCon = set(('a', 'b', 'c'))\n",
        "print(setCon)"
      ],
      "metadata": {
        "colab": {
          "base_uri": "https://localhost:8080/"
        },
        "id": "ZujB4odwsI8-",
        "outputId": "d0c80130-380f-450c-fbb3-84b555d2c982"
      },
      "execution_count": 26,
      "outputs": [
        {
          "output_type": "stream",
          "name": "stdout",
          "text": [
            "{'a', 'c', 'b'}\n"
          ]
        }
      ]
    },
    {
      "cell_type": "code",
      "source": [
        "#printing set items\n",
        "for x in setCon:\n",
        "  print(x)"
      ],
      "metadata": {
        "colab": {
          "base_uri": "https://localhost:8080/"
        },
        "id": "GVWbVX35tB90",
        "outputId": "8eac814c-de48-4a8b-b486-a1ccc5faa077"
      },
      "execution_count": 27,
      "outputs": [
        {
          "output_type": "stream",
          "name": "stdout",
          "text": [
            "a\n",
            "c\n",
            "b\n"
          ]
        }
      ]
    },
    {
      "cell_type": "code",
      "source": [
        "#check an item present in set or not\n",
        "fruitsSet = {\"apple\", \"banana\", \"cherry\"}\n",
        "flag = \"banana\" in fruitsSet\n",
        "print (\"flag value\", flag)"
      ],
      "metadata": {
        "colab": {
          "base_uri": "https://localhost:8080/"
        },
        "id": "2ByuwL9ZtdVz",
        "outputId": "ccb14fd4-5fd8-4510-a029-440d92ce88ea"
      },
      "execution_count": 28,
      "outputs": [
        {
          "output_type": "stream",
          "name": "stdout",
          "text": [
            "flag value True\n"
          ]
        }
      ]
    },
    {
      "cell_type": "code",
      "source": [
        "# Add new items to the set\n",
        "fruitsSet.add(\"kiwi\")\n",
        "print(fruitsSet)"
      ],
      "metadata": {
        "colab": {
          "base_uri": "https://localhost:8080/"
        },
        "id": "714xcjGtt0bV",
        "outputId": "9997c629-c60b-4b50-a6aa-1fefcf3e0e9c"
      },
      "execution_count": 29,
      "outputs": [
        {
          "output_type": "stream",
          "name": "stdout",
          "text": [
            "{'cherry', 'banana', 'apple', 'kiwi'}\n"
          ]
        }
      ]
    },
    {
      "cell_type": "code",
      "source": [
        "# Update set with new items from another set\n",
        "tropical = {\"pineapple\", \"mango\"}\n",
        "fruitsSet.update(tropical)\n",
        "print(fruitsSet)\n"
      ],
      "metadata": {
        "colab": {
          "base_uri": "https://localhost:8080/"
        },
        "id": "ZPKF7xRaurHT",
        "outputId": "3de9c224-fa69-43b1-a3e1-ddafbaa8f7a0"
      },
      "execution_count": 30,
      "outputs": [
        {
          "output_type": "stream",
          "name": "stdout",
          "text": [
            "{'cherry', 'kiwi', 'pineapple', 'banana', 'apple', 'mango'}\n"
          ]
        }
      ]
    },
    {
      "cell_type": "code",
      "source": [
        "# update items from a list\n",
        "fruitsList = [\"dragon\", \"orange\"]\n",
        "fruitsSet.update(fruitsList)\n",
        "print(fruitsSet)"
      ],
      "metadata": {
        "colab": {
          "base_uri": "https://localhost:8080/"
        },
        "id": "AwtJZSe8vCnd",
        "outputId": "94b10c37-c820-42a7-849e-04b1c4730a3b"
      },
      "execution_count": 31,
      "outputs": [
        {
          "output_type": "stream",
          "name": "stdout",
          "text": [
            "{'cherry', 'kiwi', 'orange', 'pineapple', 'dragon', 'banana', 'apple', 'mango'}\n"
          ]
        }
      ]
    },
    {
      "cell_type": "code",
      "source": [
        "#remove an item from set\n",
        "fruitsSet.remove(\"orange\")\n",
        "print(fruitsSet)"
      ],
      "metadata": {
        "colab": {
          "base_uri": "https://localhost:8080/"
        },
        "id": "7E8-8Qd7vcIR",
        "outputId": "ca12b4dd-55ce-42d1-ac05-104ca34a2a30"
      },
      "execution_count": 32,
      "outputs": [
        {
          "output_type": "stream",
          "name": "stdout",
          "text": [
            "{'cherry', 'kiwi', 'pineapple', 'dragon', 'banana', 'apple', 'mango'}\n"
          ]
        }
      ]
    },
    {
      "cell_type": "code",
      "source": [
        "#remove an item from set with discard\n",
        "fruitsSet.discard(\"orange\") #Already removed. However, discard will not show any error\n",
        "print(fruitsSet)\n",
        "fruitsSet.discard(\"banana\")\n",
        "print(fruitsSet)"
      ],
      "metadata": {
        "id": "OE8kT6zDwMBz",
        "outputId": "c7e57c56-c2e6-4b36-8314-2fcdd7d75acc",
        "colab": {
          "base_uri": "https://localhost:8080/"
        }
      },
      "execution_count": 33,
      "outputs": [
        {
          "output_type": "stream",
          "name": "stdout",
          "text": [
            "{'cherry', 'kiwi', 'pineapple', 'dragon', 'banana', 'apple', 'mango'}\n",
            "{'cherry', 'kiwi', 'pineapple', 'dragon', 'apple', 'mango'}\n"
          ]
        }
      ]
    },
    {
      "cell_type": "code",
      "source": [],
      "metadata": {
        "id": "X03899mkw02b"
      },
      "execution_count": 33,
      "outputs": []
    }
  ]
}