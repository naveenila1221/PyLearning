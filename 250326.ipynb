{
  "nbformat": 4,
  "nbformat_minor": 0,
  "metadata": {
    "colab": {
      "provenance": [],
      "authorship_tag": "ABX9TyO4vPFl0Y5Q05V8HU4kCwpU"
    },
    "kernelspec": {
      "name": "python3",
      "display_name": "Python 3"
    },
    "language_info": {
      "name": "python"
    }
  },
  "cells": [
    {
      "cell_type": "code",
      "execution_count": 6,
      "metadata": {
        "id": "far2WLrJp-YW",
        "outputId": "1e213a17-e8a9-47d1-aa5a-c1b43674fa28",
        "colab": {
          "base_uri": "https://localhost:8080/"
        }
      },
      "outputs": [
        {
          "output_type": "stream",
          "name": "stdout",
          "text": [
            "{0, 1, 2, 3, 'apple'}\n",
            "5\n"
          ]
        }
      ],
      "source": [
        "setItems = {0, 1,2,3, 1, \"apple\", True, False, 0}\n",
        "print(setItems)\n",
        "print(len(setItems))"
      ]
    },
    {
      "cell_type": "code",
      "source": [
        "#with comments\n",
        "setCon = set(('a', 'b', 'c'))\n",
        "print(setCon)"
      ],
      "metadata": {
        "id": "ZujB4odwsI8-",
        "outputId": "e7de55e5-3cc4-4291-dce2-626c27dd0256",
        "colab": {
          "base_uri": "https://localhost:8080/"
        }
      },
      "execution_count": 7,
      "outputs": [
        {
          "output_type": "stream",
          "name": "stdout",
          "text": [
            "{'a', 'c', 'b'}\n"
          ]
        }
      ]
    },
    {
      "cell_type": "code",
      "source": [
        "#printing set items\n",
        "for x in setCon:\n",
        "  print(x)"
      ],
      "metadata": {
        "id": "GVWbVX35tB90",
        "outputId": "a4150434-f2f5-4181-ba32-e6161aac86f1",
        "colab": {
          "base_uri": "https://localhost:8080/"
        }
      },
      "execution_count": 8,
      "outputs": [
        {
          "output_type": "stream",
          "name": "stdout",
          "text": [
            "a\n",
            "c\n",
            "b\n"
          ]
        }
      ]
    },
    {
      "cell_type": "code",
      "source": [
        "#check an item present in set or not\n",
        "fruitsSet = {\"apple\", \"banana\", \"cherry\"}\n",
        "flag = \"banana\" in fruitsSet\n",
        "print (\"flag value\", flag)"
      ],
      "metadata": {
        "id": "2ByuwL9ZtdVz",
        "outputId": "07d1f353-6ddc-4631-dc08-945fffa859e6",
        "colab": {
          "base_uri": "https://localhost:8080/"
        }
      },
      "execution_count": 10,
      "outputs": [
        {
          "output_type": "stream",
          "name": "stdout",
          "text": [
            "flag value True\n"
          ]
        }
      ]
    },
    {
      "cell_type": "code",
      "source": [],
      "metadata": {
        "id": "714xcjGtt0bV"
      },
      "execution_count": null,
      "outputs": []
    }
  ]
}