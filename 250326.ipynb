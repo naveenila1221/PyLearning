{
  "nbformat": 4,
  "nbformat_minor": 0,
  "metadata": {
    "colab": {
      "provenance": [],
      "authorship_tag": "ABX9TyOCZ36qUxZg2AuQon5T6cKp",
      "include_colab_link": true
    },
    "kernelspec": {
      "name": "python3",
      "display_name": "Python 3"
    },
    "language_info": {
      "name": "python"
    }
  },
  "cells": [
    {
      "cell_type": "markdown",
      "metadata": {
        "id": "view-in-github",
        "colab_type": "text"
      },
      "source": [
        "<a href=\"https://colab.research.google.com/github/naveenila1221/PyLearning/blob/main/250326.ipynb\" target=\"_parent\"><img src=\"https://colab.research.google.com/assets/colab-badge.svg\" alt=\"Open In Colab\"/></a>"
      ]
    },
    {
      "cell_type": "code",
      "execution_count": null,
      "metadata": {
        "id": "far2WLrJp-YW",
        "colab": {
          "base_uri": "https://localhost:8080/"
        },
        "outputId": "cfbf7e85-a3aa-44e0-f8ca-8d89526ae023"
      },
      "outputs": [
        {
          "output_type": "stream",
          "name": "stdout",
          "text": [
            "{0, 1, 2, 3, 'apple'}\n",
            "5\n"
          ]
        }
      ],
      "source": [
        "setItems = {0, 1,2,3, 1, \"apple\", True, False, 0}\n",
        "print(setItems)\n",
        "print(len(setItems))"
      ]
    },
    {
      "cell_type": "code",
      "source": [
        "#with comments\n",
        "setCon = set(('a', 'b', 'c'))\n",
        "print(setCon)"
      ],
      "metadata": {
        "colab": {
          "base_uri": "https://localhost:8080/"
        },
        "id": "ZujB4odwsI8-",
        "outputId": "d0c80130-380f-450c-fbb3-84b555d2c982"
      },
      "execution_count": null,
      "outputs": [
        {
          "output_type": "stream",
          "name": "stdout",
          "text": [
            "{'a', 'c', 'b'}\n"
          ]
        }
      ]
    },
    {
      "cell_type": "code",
      "source": [
        "#printing set items\n",
        "for x in setCon:\n",
        "  print(x)"
      ],
      "metadata": {
        "colab": {
          "base_uri": "https://localhost:8080/"
        },
        "id": "GVWbVX35tB90",
        "outputId": "8eac814c-de48-4a8b-b486-a1ccc5faa077"
      },
      "execution_count": null,
      "outputs": [
        {
          "output_type": "stream",
          "name": "stdout",
          "text": [
            "a\n",
            "c\n",
            "b\n"
          ]
        }
      ]
    },
    {
      "cell_type": "code",
      "source": [
        "#check an item present in set or not\n",
        "fruitsSet = {\"apple\", \"banana\", \"cherry\"}\n",
        "flag = \"banana\" in fruitsSet\n",
        "print (\"flag value\", flag)"
      ],
      "metadata": {
        "colab": {
          "base_uri": "https://localhost:8080/"
        },
        "id": "2ByuwL9ZtdVz",
        "outputId": "ccb14fd4-5fd8-4510-a029-440d92ce88ea"
      },
      "execution_count": null,
      "outputs": [
        {
          "output_type": "stream",
          "name": "stdout",
          "text": [
            "flag value True\n"
          ]
        }
      ]
    },
    {
      "cell_type": "code",
      "source": [
        "# Add new items to the set\n",
        "fruitsSet.add(\"kiwi\")\n",
        "print(fruitsSet)"
      ],
      "metadata": {
        "colab": {
          "base_uri": "https://localhost:8080/"
        },
        "id": "714xcjGtt0bV",
        "outputId": "9997c629-c60b-4b50-a6aa-1fefcf3e0e9c"
      },
      "execution_count": null,
      "outputs": [
        {
          "output_type": "stream",
          "name": "stdout",
          "text": [
            "{'cherry', 'banana', 'apple', 'kiwi'}\n"
          ]
        }
      ]
    },
    {
      "cell_type": "code",
      "source": [
        "# Update set with new items from another set\n",
        "tropical = {\"pineapple\", \"mango\"}\n",
        "fruitsSet.update(tropical)\n",
        "print(fruitsSet)\n"
      ],
      "metadata": {
        "colab": {
          "base_uri": "https://localhost:8080/"
        },
        "id": "ZPKF7xRaurHT",
        "outputId": "3de9c224-fa69-43b1-a3e1-ddafbaa8f7a0"
      },
      "execution_count": null,
      "outputs": [
        {
          "output_type": "stream",
          "name": "stdout",
          "text": [
            "{'cherry', 'kiwi', 'pineapple', 'banana', 'apple', 'mango'}\n"
          ]
        }
      ]
    },
    {
      "cell_type": "code",
      "source": [
        "# update items from a list\n",
        "fruitsList = [\"dragon\", \"orange\"]\n",
        "fruitsSet.update(fruitsList)\n",
        "print(fruitsSet)"
      ],
      "metadata": {
        "colab": {
          "base_uri": "https://localhost:8080/"
        },
        "id": "AwtJZSe8vCnd",
        "outputId": "94b10c37-c820-42a7-849e-04b1c4730a3b"
      },
      "execution_count": null,
      "outputs": [
        {
          "output_type": "stream",
          "name": "stdout",
          "text": [
            "{'cherry', 'kiwi', 'orange', 'pineapple', 'dragon', 'banana', 'apple', 'mango'}\n"
          ]
        }
      ]
    },
    {
      "cell_type": "code",
      "source": [
        "#remove an item from set\n",
        "fruitsSet.remove(\"orange\")\n",
        "print(fruitsSet)"
      ],
      "metadata": {
        "colab": {
          "base_uri": "https://localhost:8080/"
        },
        "id": "7E8-8Qd7vcIR",
        "outputId": "ca12b4dd-55ce-42d1-ac05-104ca34a2a30"
      },
      "execution_count": null,
      "outputs": [
        {
          "output_type": "stream",
          "name": "stdout",
          "text": [
            "{'cherry', 'kiwi', 'pineapple', 'dragon', 'banana', 'apple', 'mango'}\n"
          ]
        }
      ]
    },
    {
      "cell_type": "code",
      "source": [
        "#remove an item from set with discard\n",
        "fruitsSet.discard(\"orange\") #Already removed. However, discard will not show any error\n",
        "print(fruitsSet)\n",
        "fruitsSet.discard(\"banana\")\n",
        "print(fruitsSet)"
      ],
      "metadata": {
        "colab": {
          "base_uri": "https://localhost:8080/"
        },
        "id": "OE8kT6zDwMBz",
        "outputId": "c7e57c56-c2e6-4b36-8314-2fcdd7d75acc"
      },
      "execution_count": null,
      "outputs": [
        {
          "output_type": "stream",
          "name": "stdout",
          "text": [
            "{'cherry', 'kiwi', 'pineapple', 'dragon', 'banana', 'apple', 'mango'}\n",
            "{'cherry', 'kiwi', 'pineapple', 'dragon', 'apple', 'mango'}\n"
          ]
        }
      ]
    },
    {
      "cell_type": "code",
      "source": [
        "# clearing the set\n",
        "fruitsCopy = fruitsSet.copy()\n",
        "print(fruitsCopy)\n",
        "fruitsCopy.clear()\n",
        "print(fruitsCopy)"
      ],
      "metadata": {
        "colab": {
          "base_uri": "https://localhost:8080/"
        },
        "id": "X03899mkw02b",
        "outputId": "d64e6e52-6f0a-4b06-a867-87d36eac22bf"
      },
      "execution_count": null,
      "outputs": [
        {
          "output_type": "stream",
          "name": "stdout",
          "text": [
            "{'cherry', 'kiwi', 'pineapple', 'dragon', 'apple', 'mango'}\n",
            "set()\n"
          ]
        }
      ]
    },
    {
      "cell_type": "code",
      "source": [
        "#delete the set\n",
        "del fruitsCopy"
      ],
      "metadata": {
        "id": "Ke8UxEBixbVC"
      },
      "execution_count": null,
      "outputs": []
    },
    {
      "cell_type": "code",
      "source": [
        "# adding to set\n",
        "setAlpha = {'a', 'b', 'c'}\n",
        "setBeta = {'d', 'e', 'f'}\n",
        "setAlpha.update(setBeta)\n",
        "print(setAlpha)\n",
        "setNewWithAlphaBeta = setAlpha | setBeta | fruitsSet\n",
        "print(setNewWithAlphaBeta)\n"
      ],
      "metadata": {
        "id": "fRtx4QpVxsYx",
        "outputId": "e9aee753-eb25-402b-cd02-a80aae9150ac",
        "colab": {
          "base_uri": "https://localhost:8080/"
        }
      },
      "execution_count": null,
      "outputs": [
        {
          "output_type": "stream",
          "name": "stdout",
          "text": [
            "{'d', 'e', 'c', 'f', 'a', 'b'}\n",
            "{'e', 'pineapple', 'dragon', 'apple', 'a', 'mango', 'd', 'cherry', 'kiwi', 'f', 'c', 'b'}\n"
          ]
        }
      ]
    },
    {
      "cell_type": "code",
      "source": [
        "tupleOne = (1, 2, 3, 4)\n",
        "setBeta = setBeta.union(tupleOne)\n",
        "print(setBeta)\n"
      ],
      "metadata": {
        "id": "7YC1TU1Py8zq",
        "outputId": "3128a83f-1604-4bec-d3f1-5eedc523f95d",
        "colab": {
          "base_uri": "https://localhost:8080/"
        }
      },
      "execution_count": null,
      "outputs": [
        {
          "output_type": "stream",
          "name": "stdout",
          "text": [
            "{'e', 1, 2, 3, 4, 'd', 'f'}\n"
          ]
        }
      ]
    },
    {
      "cell_type": "code",
      "source": [
        "intersectionSet1 = {\"apple\", \"banana\", \"cherry\", \"papaya\"}\n",
        "intersectionSet2 = {\"kiwi\", \"banana\", \"papaya\"}\n",
        "newIntersectionSet = intersectionSet1.intersection(intersectionSet2)\n",
        "print(newIntersectionSet)"
      ],
      "metadata": {
        "id": "yTxidQQ5zrZA",
        "outputId": "c5553e19-f8be-448c-a7ce-46866ff24028",
        "colab": {
          "base_uri": "https://localhost:8080/"
        }
      },
      "execution_count": 2,
      "outputs": [
        {
          "output_type": "stream",
          "name": "stdout",
          "text": [
            "{'papaya', 'banana'}\n"
          ]
        }
      ]
    },
    {
      "cell_type": "code",
      "source": [],
      "metadata": {
        "id": "ZFYNVU1vjKaG"
      },
      "execution_count": null,
      "outputs": []
    }
  ]
}