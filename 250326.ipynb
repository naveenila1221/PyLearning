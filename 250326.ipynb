{
  "nbformat": 4,
  "nbformat_minor": 0,
  "metadata": {
    "colab": {
      "provenance": [],
      "authorship_tag": "ABX9TyP5LIsZI4E3lBhOW/N6I0Zx"
    },
    "kernelspec": {
      "name": "python3",
      "display_name": "Python 3"
    },
    "language_info": {
      "name": "python"
    }
  },
  "cells": [
    {
      "cell_type": "code",
      "execution_count": 6,
      "metadata": {
        "id": "far2WLrJp-YW",
        "colab": {
          "base_uri": "https://localhost:8080/"
        },
        "outputId": "1e213a17-e8a9-47d1-aa5a-c1b43674fa28"
      },
      "outputs": [
        {
          "output_type": "stream",
          "name": "stdout",
          "text": [
            "{0, 1, 2, 3, 'apple'}\n",
            "5\n"
          ]
        }
      ],
      "source": [
        "setItems = {0, 1,2,3, 1, \"apple\", True, False, 0}\n",
        "print(setItems)\n",
        "print(len(setItems))"
      ]
    },
    {
      "cell_type": "code",
      "source": [
        "#with comments\n",
        "setCon = set(('a', 'b', 'c'))\n",
        "print(setCon)"
      ],
      "metadata": {
        "colab": {
          "base_uri": "https://localhost:8080/"
        },
        "id": "ZujB4odwsI8-",
        "outputId": "e7de55e5-3cc4-4291-dce2-626c27dd0256"
      },
      "execution_count": 7,
      "outputs": [
        {
          "output_type": "stream",
          "name": "stdout",
          "text": [
            "{'a', 'c', 'b'}\n"
          ]
        }
      ]
    },
    {
      "cell_type": "code",
      "source": [
        "#printing set items\n",
        "for x in setCon:\n",
        "  print(x)"
      ],
      "metadata": {
        "colab": {
          "base_uri": "https://localhost:8080/"
        },
        "id": "GVWbVX35tB90",
        "outputId": "a4150434-f2f5-4181-ba32-e6161aac86f1"
      },
      "execution_count": 8,
      "outputs": [
        {
          "output_type": "stream",
          "name": "stdout",
          "text": [
            "a\n",
            "c\n",
            "b\n"
          ]
        }
      ]
    },
    {
      "cell_type": "code",
      "source": [
        "#check an item present in set or not\n",
        "fruitsSet = {\"apple\", \"banana\", \"cherry\"}\n",
        "flag = \"banana\" in fruitsSet\n",
        "print (\"flag value\", flag)"
      ],
      "metadata": {
        "colab": {
          "base_uri": "https://localhost:8080/"
        },
        "id": "2ByuwL9ZtdVz",
        "outputId": "07d1f353-6ddc-4631-dc08-945fffa859e6"
      },
      "execution_count": 10,
      "outputs": [
        {
          "output_type": "stream",
          "name": "stdout",
          "text": [
            "flag value True\n"
          ]
        }
      ]
    },
    {
      "cell_type": "code",
      "source": [
        "# Add new items to the set\n",
        "fruitsSet.add(\"kiwi\")\n",
        "print(fruitsSet)"
      ],
      "metadata": {
        "colab": {
          "base_uri": "https://localhost:8080/"
        },
        "id": "714xcjGtt0bV",
        "outputId": "8799aa17-7d8d-444a-927d-3e56cbb5d15b"
      },
      "execution_count": 11,
      "outputs": [
        {
          "output_type": "stream",
          "name": "stdout",
          "text": [
            "{'cherry', 'banana', 'apple', 'kiwi'}\n"
          ]
        }
      ]
    },
    {
      "cell_type": "code",
      "source": [
        "# Update set with new items from another set\n",
        "tropical = {\"pineapple\", \"mango\"}\n",
        "fruitsSet.update(tropical)\n",
        "print(fruitsSet)\n"
      ],
      "metadata": {
        "colab": {
          "base_uri": "https://localhost:8080/"
        },
        "id": "ZPKF7xRaurHT",
        "outputId": "08eea564-f9b7-4f1d-8f8c-947e9cbc0e50"
      },
      "execution_count": 12,
      "outputs": [
        {
          "output_type": "stream",
          "name": "stdout",
          "text": [
            "{'cherry', 'kiwi', 'pineapple', 'banana', 'apple', 'mango'}\n"
          ]
        }
      ]
    },
    {
      "cell_type": "code",
      "source": [
        "# update items from a list\n",
        "fruitsList = [\"dragon\", \"orange\"]\n",
        "fruitsSet.update(fruitsList)\n",
        "print(fruitsSet)"
      ],
      "metadata": {
        "colab": {
          "base_uri": "https://localhost:8080/"
        },
        "id": "AwtJZSe8vCnd",
        "outputId": "ef92848c-2abd-4d92-dec1-0eb75e6eafb8"
      },
      "execution_count": 14,
      "outputs": [
        {
          "output_type": "stream",
          "name": "stdout",
          "text": [
            "{'cherry', 'kiwi', 'orange', 'pineapple', 'dragon', 'banana', 'apple', 'mango'}\n"
          ]
        }
      ]
    },
    {
      "cell_type": "code",
      "source": [],
      "metadata": {
        "id": "7E8-8Qd7vcIR"
      },
      "execution_count": null,
      "outputs": []
    }
  ]
}